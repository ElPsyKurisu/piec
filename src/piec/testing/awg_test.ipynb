{
 "cells": [
  {
   "cell_type": "markdown",
   "metadata": {},
   "source": [
    "# Testing Notebook for Keysight 81150A AWG Driver\n",
    "\n",
    "This notebook is designed to walk a technician through testing the functionality of the `Keysight81150a` driver. \n",
    "\n",
    "**Instructions for the Technician:**\n",
    "1. Ensure a Keysight 81150A Arbitrary Waveform Generator is connected to the same network as this computer.\n",
    "2. Connect the output of Channel 1 of the AWG to an oscilloscope to visualize the waveforms.\n",
    "3. Run each cell sequentially.\n",
    "4. After running a cell that sends a command to the instrument, observe the AWG's screen and the connected oscilloscope to verify that the expected change has occurred.\n",
    "5. For cells that query the instrument, check the output in the notebook to ensure it is reasonable."
   ]
  },
  {
   "cell_type": "markdown",
   "metadata": {},
   "source": [
    "## 1. Connect to the Instrument"
   ]
  },
  {
   "cell_type": "code",
   "execution_count": null,
   "metadata": {},
   "outputs": [],
   "source": [
    "import numpy as np\n",
    "from piec.drivers.Keysight.k_81150a import Keysight81150a\n",
    "from piec.drivers.utilities import PiecManager\n",
    "\n",
    "# Initialize PiecManager and list available resources\n",
    "pm = PiecManager()\n",
    "pm.list_resources()"
   ]
  },
  {
   "cell_type": "markdown",
   "metadata": {},
   "source": [
    "**Technician Note:** Find the VISA address for the Keysight AWG in the list above and replace `'Address'` with the correct string (e.g., `'TCPIP0::A-81150A-00000.local::inst0::INSTR'`)."
   ]
  },
  {
   "cell_type": "code",
   "execution_count": null,
   "metadata": {},
   "outputs": [],
   "source": [
    "# Connect to the instrument\n",
    "# The technician will replace 'Address' with the actual instrument address from the list above.\n",
    "awg = Keysight81150a(\"Address\")"
   ]
  },
  {
   "cell_type": "markdown",
   "metadata": {},
   "source": [
    "## 2. Standard Waveform Configuration Tests"
   ]
  },
  {
   "cell_type": "code",
   "execution_count": null,
   "metadata": {},
   "outputs": [],
   "source": [
    "# Configure a Sine Wave on Channel 1\n",
    "awg.configure_waveform(\n",
    "    channel=1,\n",
    "    waveform='SIN',\n",
    "    frequency=1e6,  # 1 MHz\n",
    "    amplitude=2.0,  # 2 Vpp\n",
    "    offset=0.5      # 0.5 V\n",
    ")"
   ]
  },
  {
   "cell_type": "markdown",
   "metadata": {},
   "source": [
    "**Expected Output:** The AWG screen for Channel 1 should show:\n",
    "- **Waveform:** Sine\n",
    "- **Frequency:** 1.000 MHz\n",
    "- **Amplitude:** 2.000 Vpp\n",
    "- **Offset:** 500.000 mV\n",
    "\n",
    "The oscilloscope should display a 1 MHz sine wave with a 2V peak-to-peak amplitude and a 0.5V DC offset."
   ]
  },
  {
   "cell_type": "code",
   "execution_count": null,
   "metadata": {},
   "outputs": [],
   "source": [
    "# Turn on Channel 1 Output\n",
    "awg.output(channel=1, on=True)"
   ]
  },
  {
   "cell_type": "markdown",
   "metadata": {},
   "source": [
    "**Expected Output:** The 'CH 1' output button on the AWG front panel should illuminate. The sine wave should now be visible on the oscilloscope."
   ]
  },
  {
   "cell_type": "code",
   "execution_count": null,
   "metadata": {},
   "outputs": [],
   "source": [
    "# Configure a Square Wave on Channel 1\n",
    "awg.set_waveform(channel=1, waveform='SQU')\n",
    "awg.set_square_duty_cycle(channel=1, duty_cycle=25)"
   ]
  },
  {
   "cell_type": "markdown",
   "metadata": {},
   "source": [
    "**Expected Output:** The AWG screen for Channel 1 should now show a Square wave with a 25% duty cycle. The oscilloscope display will update to show the new waveform."
   ]
  },
  {
   "cell_type": "code",
   "execution_count": null,
   "metadata": {},
   "outputs": [],
   "source": [
    "# Configure a Ramp Wave on Channel 1\n",
    "awg.set_waveform(channel=1, waveform='RAMP')\n",
    "awg.set_ramp_symmetry(channel=1, symmetry=80)"
   ]
  },
  {
   "cell_type": "markdown",
   "metadata": {},
   "source": [
    "**Expected Output:** The AWG screen for Channel 1 should now show a Ramp wave with 80% symmetry (a fast rise and slow fall). The oscilloscope display will update."
   ]
  },
  {
   "cell_type": "code",
   "execution_count": null,
   "metadata": {},
   "outputs": [],
   "source": [
    "# Turn off Channel 1 Output\n",
    "awg.output(channel=1, on=False)"
   ]
  },
  {
   "cell_type": "markdown",
   "metadata": {},
   "source": [
    "**Expected Output:** The 'CH 1' output button light should turn off. The waveform should disappear from the oscilloscope."
   ]
  },
  {
   "cell_type": "markdown",
   "metadata": {},
   "source": [
    "## 3. Pulse Configuration Test"
   ]
  },
  {
   "cell_type": "code",
   "execution_count": null,
   "metadata": {},
   "outputs": [],
   "source": [
    "# Configure a Pulse on Channel 1\n",
    "awg.configure_pulse(\n",
    "    channel=1,\n",
    "    pulse_width=1e-6, # 1 µs\n",
    "    rise_time=10e-9,  # 10 ns\n",
    "    fall_time=10e-9,  # 10 ns\n",
    "    pulse_delay=0.5e-6 # 0.5 µs\n",
    ")\n",
    "# Also set frequency and amplitude\n",
    "awg.set_frequency(channel=1, frequency=500e3) # 500 kHz\n",
    "awg.set_amplitude(channel=1, amplitude=3.0)  # 3 Vpp"
   ]
  },
  {
   "cell_type": "markdown",
   "metadata": {},
   "source": [
    "**Expected Output:** The AWG screen for Channel 1 should be set to a Pulse waveform with the specified width, transition times, and delay. The frequency should be 500 kHz and amplitude 3 Vpp. Turn on the output to verify on the oscilloscope."
   ]
  },
  {
   "cell_type": "code",
   "execution_count": null,
   "metadata": {},
   "outputs": [],
   "source": [
    "awg.output(channel=1, on=True)"
   ]
  },
  {
   "cell_type": "markdown",
   "metadata": {},
   "source": [
    "## 4. Arbitrary Waveform Test"
   ]
  },
  {
   "cell_type": "code",
   "execution_count": null,
   "metadata": {},
   "outputs": [],
   "source": [
    "# Create a custom waveform: a sine wave with a glitch\n",
    "# Note: The data points are scaled internally by the driver to the instrument's required integer format.\n",
    "points = 200\n",
    "x = np.linspace(0, 2 * np.pi, points)\n",
    "custom_data = np.sin(x) * 0.8 # Create a sine wave at 80% of full scale\n",
    "custom_data[50:60] = 1.0 # Add a glitch at full positive scale\n",
    "custom_data[150:160] = -1.0 # Add a glitch at full negative scale\n",
    "\n",
    "# Send the waveform to the instrument's volatile memory\n",
    "awg.create_arb_waveform(channel=1, name='GLITCH', data=custom_data)"
   ]
  },
  {
   "cell_type": "markdown",
   "metadata": {},
   "source": [
    "**Expected Output:** A message `Estimated Peak-to-Peak Ratio...` should be printed. On the instrument, a new arbitrary waveform named `GLITCH` should be created in the waveform catalog. There may be a short delay as the data is transferred."
   ]
  },
  {
   "cell_type": "code",
   "execution_count": null,
   "metadata": {},
   "outputs": [],
   "source": [
    "# Set the AWG to output the created arbitrary waveform\n",
    "awg.set_arb_waveform(channel=1, name='GLITCH')\n",
    "awg.set_frequency(channel=1, frequency=100e3) # Set a frequency for the arb waveform"
   ]
  },
  {
   "cell_type": "markdown",
   "metadata": {},
   "source": [
    "**Expected Output:** The AWG's function for Channel 1 should now be `USER` and the selected user waveform should be `GLITCH`. The oscilloscope should display the sine wave with the positive and negative glitches."
   ]
  },
  {
   "cell_type": "markdown",
   "metadata": {},
   "source": [
    "## 5. Amplifier and Trigger Tests"
   ]
  },
  {
   "cell_type": "code",
   "execution_count": null,
   "metadata": {},
   "outputs": [],
   "source": [
    "# Set the amplifier to High Voltage mode\n",
    "awg.configure_output_amplifier(channel=1, type='HIV')"
   ]
  },
  {
   "cell_type": "markdown",
   "metadata": {},
   "source": [
    "**Expected Output:** The AWG should switch to High Voltage output mode. This allows for higher voltage swings (up to 10 Vpp into 50 Ohm), but may limit the maximum frequency for some waveforms. This change might be indicated on the instrument's display."
   ]
  },
  {
   "cell_type": "code",
   "execution_count": null,
   "metadata": {},
   "outputs": [],
   "source": [
    "# Set a high amplitude to test the new range\n",
    "awg.set_amplitude(channel=1, amplitude=8.0) # 8 Vpp"
   ]
  },
  {
   "cell_type": "markdown",
   "metadata": {},
   "source": [
    "**Expected Output:** The amplitude should be set to 8.0 Vpp, which is only possible in 'HIV' mode. The oscilloscope should show a larger waveform."
   ]
  },
  {
   "cell_type": "code",
   "execution_count": null,
   "metadata": {},
   "outputs": [],
   "source": [
    "# Configure the trigger\n",
    "awg.configure_trigger(channel=1, trigger_source='EXT', trigger_slope='POS', trigger_mode='EDGE')"
   ]
  },
  {
   "cell_type": "markdown",
   "metadata": {},
   "source": [
    "**Expected Output:** The AWG's trigger settings for Channel 1 should be updated:\n",
    "- **Source:** Ext\n",
    "- **Slope:** Positive (Rising)\n",
    "- **Mode:** Edge\n",
    "\n",
    "The AWG will now wait for an external trigger signal to generate a waveform (if in a triggered mode)."
   ]
  },
  {
   "cell_type": "markdown",
   "metadata": {},
   "source": [
    "## 6. End of Test\n",
    "\n",
    "If all the steps above were completed and the observed behavior on the AWG and oscilloscope matched the expected output, the driver is functioning correctly."
   ]
  }
 ],
 "metadata": {
  "kernelspec": {
   "display_name": "Python 3",
   "language": "python",
   "name": "python3"
  },
  "language_info": {
   "codemirror_mode": {
    "name": "ipython",
    "version": 3
   },
   "file_extension": ".py",
   "mimetype": "text/x-python",
   "name": "python",
   "nbconvert_exporter": "python",
   "pygments_lexer": "ipython3",
   "version": "3.10.4"
  }
 },
 "nbformat": 4,
 "nbformat_minor": 2
}
