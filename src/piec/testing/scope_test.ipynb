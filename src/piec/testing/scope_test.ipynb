{
 "cells": [
  {
   "cell_type": "markdown",
   "metadata": {},
   "source": [
    "# Testing Notebook for Keysight DSOX3024A Oscilloscope Driver\n",
    "\n",
    "This notebook is designed to walk a technician through testing the functionality of the `KeysightDSOX3024a` driver. \n",
    "\n",
    "**Instructions for the Technician:**\n",
    "1. Ensure a Keysight DSOX3024A oscilloscope is connected to the same network as this computer.\n",
    "2. Run each cell sequentially.\n",
    "3. After running a cell that sends a command to the instrument, observe the oscilloscope's screen to verify that the expected change has occurred.\n",
    "4. For data acquisition cells, check the output in the notebook to ensure it is reasonable."
   ]
  },
  {
   "cell_type": "markdown",
   "metadata": {},
   "source": [
    "## 1. Connect to the Instrument"
   ]
  },
  {
   "cell_type": "code",
   "execution_count": 1,
   "metadata": {},
   "outputs": [
    {
     "data": {
      "text/plain": [
       "('GPIB0::7::INSTR', 'GPIB0::8::INSTR')"
      ]
     },
     "execution_count": 1,
     "metadata": {},
     "output_type": "execute_result"
    }
   ],
   "source": [
    "from piec.drivers.Keysight.k_dsox3024a import KeysightDSOX3024a\n",
    "from piec.drivers.utilities import PiecManager\n",
    "\n",
    "# Initialize PiecManager and list available resources\n",
    "pm = PiecManager()\n",
    "pm.list_resources()"
   ]
  },
  {
   "cell_type": "markdown",
   "metadata": {},
   "source": [
    "**Technician Note:** Find the VISA address for the Keysight oscilloscope in the list above and replace `'Address'` with the correct string (e.g., `'TCPIP0::192.168.1.1::inst0::INSTR'`)."
   ]
  },
  {
   "cell_type": "code",
   "execution_count": 2,
   "metadata": {},
   "outputs": [],
   "source": [
    "# Connect to the instrument\n",
    "# The technician will replace 'Address' with the actual instrument address from the list above.\n",
    "scope = KeysightDSOX3024a(\"GPIB0::7::INSTR\")  # Replace with actual address"
   ]
  },
  {
   "cell_type": "markdown",
   "metadata": {},
   "source": [
    "## 2. Basic Functionality Test"
   ]
  },
  {
   "cell_type": "code",
   "execution_count": 28,
   "metadata": {},
   "outputs": [],
   "source": [
    "# Test Autoscale\n",
    "scope.autoscale()"
   ]
  },
  {
   "cell_type": "markdown",
   "metadata": {},
   "source": [
    "**Expected Output:** The oscilloscope should perform an autoscale operation, adjusting the vertical and horizontal scales to fit any connected signal on the active channels."
   ]
  },
  {
   "cell_type": "markdown",
   "metadata": {},
   "source": [
    "## 3. Channel Configuration Tests"
   ]
  },
  {
   "cell_type": "code",
   "execution_count": 4,
   "metadata": {},
   "outputs": [],
   "source": [
    "# Turn Channel 2 Off\n",
    "scope.toggle_channel(channel=2, on=False)"
   ]
  },
  {
   "cell_type": "markdown",
   "metadata": {},
   "source": [
    "**Expected Output:** The waveform and display for Channel 2 should disappear from the oscilloscope screen."
   ]
  },
  {
   "cell_type": "code",
   "execution_count": 5,
   "metadata": {},
   "outputs": [],
   "source": [
    "# Turn Channel 2 On\n",
    "scope.toggle_channel(channel=2, on=True)"
   ]
  },
  {
   "cell_type": "markdown",
   "metadata": {},
   "source": [
    "**Expected Output:** Channel 2 should reappear on the oscilloscope screen."
   ]
  },
  {
   "cell_type": "code",
   "execution_count": 6,
   "metadata": {},
   "outputs": [],
   "source": [
    "# Set Vertical Scale for Channel 1 (Volts/Division)\n",
    "scope.set_vertical_scale(channel=1, vdiv=0.5)"
   ]
  },
  {
   "cell_type": "markdown",
   "metadata": {},
   "source": [
    "**Expected Output:** The vertical scale for Channel 1 should be set to 500 mV/div."
   ]
  },
  {
   "cell_type": "code",
   "execution_count": 7,
   "metadata": {},
   "outputs": [],
   "source": [
    "# Set Vertical Scale for Channel 1 (Absolute Range)\n",
    "scope.set_vertical_scale(channel=1, y_range=10.0)"
   ]
  },
  {
   "cell_type": "markdown",
   "metadata": {},
   "source": [
    "**Expected Output:** The vertical range for Channel 1 should be set to 10.0 V. This corresponds to 1.25 V/div (10V / 8 divisions)."
   ]
  },
  {
   "cell_type": "code",
   "execution_count": 8,
   "metadata": {},
   "outputs": [],
   "source": [
    "# Set Vertical Position for Channel 1\n",
    "scope.set_vertical_position(channel=1, y_position=-1.0)"
   ]
  },
  {
   "cell_type": "markdown",
   "metadata": {},
   "source": [
    "**Expected Output:** The waveform for Channel 1 should shift downwards on the screen. The ground level (0V) for Channel 1 will be shifted up by one division (assuming 1 V/div)."
   ]
  },
  {
   "cell_type": "code",
   "execution_count": 11,
   "metadata": {},
   "outputs": [],
   "source": [
    "# Set Input Coupling for Channel 1 to AC\n",
    "scope.set_input_coupling(channel=1, input_coupling='AC')"
   ]
  },
  {
   "cell_type": "markdown",
   "metadata": {},
   "source": [
    "**Expected Output:** The input coupling for Channel 1 should be set to AC. This will be indicated on the oscilloscope's display for that channel."
   ]
  },
  {
   "cell_type": "code",
   "execution_count": 14,
   "metadata": {},
   "outputs": [],
   "source": [
    "# Set Probe Attenuation for Channel 1 to 10x\n",
    "scope.set_probe_attenuation(channel=1, probe_attenuation=10)"
   ]
  },
  {
   "cell_type": "markdown",
   "metadata": {},
   "source": [
    "**Expected Output:** The probe attenuation for Channel 1 should be set to 10x. All voltage readings and scales for Channel 1 will be multiplied by 10."
   ]
  },
  {
   "cell_type": "markdown",
   "metadata": {},
   "source": [
    "## 4. Horizontal Configuration Tests"
   ]
  },
  {
   "cell_type": "code",
   "execution_count": 15,
   "metadata": {},
   "outputs": [],
   "source": [
    "# Set Horizontal Scale (Time/Division)\n",
    "scope.set_horizontal_scale(tdiv=0.001)"
   ]
  },
  {
   "cell_type": "markdown",
   "metadata": {},
   "source": [
    "**Expected Output:** The horizontal scale should be set to 1 ms/div."
   ]
  },
  {
   "cell_type": "code",
   "execution_count": 16,
   "metadata": {},
   "outputs": [],
   "source": [
    "# Set Horizontal Position (Delay)\n",
    "scope.set_horizontal_position(x_position=0.0005)"
   ]
  },
  {
   "cell_type": "markdown",
   "metadata": {},
   "source": [
    "**Expected Output:** The trigger point should shift to the left on the screen, introducing a 500 µs delay."
   ]
  },
  {
   "cell_type": "code",
   "execution_count": 17,
   "metadata": {},
   "outputs": [],
   "source": [
    "# Configure Horizontal settings all at once\n",
    "scope.configure_horizontal(tdiv=0.0001, x_position=0)"
   ]
  },
  {
   "cell_type": "markdown",
   "metadata": {},
   "source": [
    "**Expected Output:** The horizontal scale should be set to 100 µs/div and the horizontal position (delay) should be reset to 0."
   ]
  },
  {
   "cell_type": "markdown",
   "metadata": {},
   "source": [
    "## 5. Trigger Configuration Tests"
   ]
  },
  {
   "cell_type": "code",
   "execution_count": null,
   "metadata": {},
   "outputs": [],
   "source": [
    "# Configure all trigger settings at once\n",
    "scope.configure_trigger(trigger_source='CHAN1', trigger_level=1.5, trigger_slope='POS', trigger_mode='EDGE')"
   ]
  },
  {
   "cell_type": "markdown",
   "metadata": {},
   "source": [
    "**Expected Output:** The oscilloscope trigger should be configured as follows:\n",
    "- **Source:** Channel 1\n",
    "- **Mode:** Edge\n",
    "- **Level:** 1.5 V\n",
    "- **Slope:** Positive (Rising)"
   ]
  },
  {
   "cell_type": "code",
   "execution_count": 20,
   "metadata": {},
   "outputs": [],
   "source": [
    "# Set the trigger sweep to Normal\n",
    "scope.set_trigger_sweep(trigger_sweep='NORM')"
   ]
  },
  {
   "cell_type": "markdown",
   "metadata": {},
   "source": [
    "**Expected Output:** The oscilloscope's trigger sweep mode should be set to 'Normal'. The scope will only trigger and update the display when a valid trigger event occurs."
   ]
  },
  {
   "cell_type": "markdown",
   "metadata": {},
   "source": [
    "## 6. Acquisition and Data Retrieval Tests"
   ]
  },
  {
   "cell_type": "code",
   "execution_count": 21,
   "metadata": {},
   "outputs": [],
   "source": [
    "# Stop Acquisition\n",
    "scope.toggle_acquisition(run=False)"
   ]
  },
  {
   "cell_type": "markdown",
   "metadata": {},
   "source": [
    "**Expected Output:** The oscilloscope should stop acquiring data. The 'Run/Stop' button on the front panel should indicate 'Stop' (typically red)."
   ]
  },
  {
   "cell_type": "code",
   "execution_count": 32,
   "metadata": {},
   "outputs": [],
   "source": [
    "# Configure the acquisition parameters\n",
    "scope.configure_acquisition(channel=1, acquisition_mode='NORM', acquisition_points=10000)"
   ]
  },
  {
   "cell_type": "markdown",
   "metadata": {},
   "source": [
    "**Expected Output:** The oscilloscope's acquisition system should be configured for:\n",
    "- **Waveform Source:** Channel 1\n",
    "- **Acquisition Mode:** High Resolution\n",
    "- **Number of Points:** 10,000"
   ]
  },
  {
   "cell_type": "code",
   "execution_count": 33,
   "metadata": {},
   "outputs": [],
   "source": [
    "# Arm the scope for a single shot\n",
    "scope.arm()"
   ]
  },
  {
   "cell_type": "markdown",
   "metadata": {},
   "source": [
    "**Expected Output:** The oscilloscope should be armed for a single acquisition. The 'Single' button on the front panel should be illuminated. The scope will now wait for a trigger event."
   ]
  },
  {
   "cell_type": "markdown",
   "metadata": {},
   "source": [
    "**Technician Note:** At this point, ensure a signal that meets the trigger conditions (Channel 1, rising edge crosses 1.5V) is present to capture a waveform."
   ]
  },
  {
   "cell_type": "code",
   "execution_count": 34,
   "metadata": {},
   "outputs": [
    {
     "name": "stdout",
     "output_type": "stream",
     "text": [
      "Quick read successful. Acquired 8000 points.\n",
      "[128 128 128 ... 128 128 128]\n"
     ]
    }
   ],
   "source": [
    "# Perform a quick read of the data on screen\n",
    "# Note: This uses different settings than we just configured\n",
    "quick_data = scope.quick_read()\n",
    "print(f\"Quick read successful. Acquired {quick_data.shape[0]} points.\")\n",
    "print(quick_data)"
   ]
  },
  {
   "cell_type": "markdown",
   "metadata": {},
   "source": [
    "**Expected Output:** The notebook should print a success message and a numpy array of integer values. This data represents the raw byte values of the waveform currently visible on the screen."
   ]
  },
  {
   "cell_type": "code",
   "execution_count": 35,
   "metadata": {},
   "outputs": [
    {
     "name": "stdout",
     "output_type": "stream",
     "text": [
      "Configured data read successful.\n"
     ]
    },
    {
     "data": {
      "text/html": [
       "<div>\n",
       "<style scoped>\n",
       "    .dataframe tbody tr th:only-of-type {\n",
       "        vertical-align: middle;\n",
       "    }\n",
       "\n",
       "    .dataframe tbody tr th {\n",
       "        vertical-align: top;\n",
       "    }\n",
       "\n",
       "    .dataframe thead th {\n",
       "        text-align: right;\n",
       "    }\n",
       "</style>\n",
       "<table border=\"1\" class=\"dataframe\">\n",
       "  <thead>\n",
       "    <tr style=\"text-align: right;\">\n",
       "      <th></th>\n",
       "      <th>Time</th>\n",
       "      <th>Voltage</th>\n",
       "    </tr>\n",
       "  </thead>\n",
       "  <tbody>\n",
       "    <tr>\n",
       "      <th>0</th>\n",
       "      <td>-1.000000e-06</td>\n",
       "      <td>-51.317288</td>\n",
       "    </tr>\n",
       "    <tr>\n",
       "      <th>1</th>\n",
       "      <td>-9.997500e-07</td>\n",
       "      <td>-51.317288</td>\n",
       "    </tr>\n",
       "    <tr>\n",
       "      <th>2</th>\n",
       "      <td>-9.995000e-07</td>\n",
       "      <td>-51.317288</td>\n",
       "    </tr>\n",
       "    <tr>\n",
       "      <th>3</th>\n",
       "      <td>-9.992500e-07</td>\n",
       "      <td>-51.116283</td>\n",
       "    </tr>\n",
       "    <tr>\n",
       "      <th>4</th>\n",
       "      <td>-9.990000e-07</td>\n",
       "      <td>-51.116283</td>\n",
       "    </tr>\n",
       "  </tbody>\n",
       "</table>\n",
       "</div>"
      ],
      "text/plain": [
       "           Time    Voltage\n",
       "0 -1.000000e-06 -51.317288\n",
       "1 -9.997500e-07 -51.317288\n",
       "2 -9.995000e-07 -51.317288\n",
       "3 -9.992500e-07 -51.116283\n",
       "4 -9.990000e-07 -51.116283"
      ]
     },
     "execution_count": 35,
     "metadata": {},
     "output_type": "execute_result"
    }
   ],
   "source": [
    "# Get the fully configured data\n",
    "# This uses the settings from the 'configure_acquisition' call\n",
    "data_df = scope.get_data()\n",
    "print(\"Configured data read successful.\")\n",
    "data_df.head()"
   ]
  },
  {
   "cell_type": "markdown",
   "metadata": {},
   "source": [
    "**Expected Output:** The notebook should print a success message and display the first 5 rows of a Pandas DataFrame. The DataFrame should have two columns: 'Time' and 'Voltage', containing the calculated time and voltage values for the 10,000 acquired points."
   ]
  },
  {
   "cell_type": "code",
   "execution_count": 36,
   "metadata": {},
   "outputs": [],
   "source": [
    "# Start Acquisition again\n",
    "scope.toggle_acquisition(run=True)"
   ]
  },
  {
   "cell_type": "markdown",
   "metadata": {},
   "source": [
    "**Expected Output:** The oscilloscope should resume continuous acquisition. The 'Run/Stop' button should indicate 'Run' (typically green)."
   ]
  },
  {
   "cell_type": "markdown",
   "metadata": {},
   "source": [
    "## 7. End of Test\n",
    "\n",
    "If all the steps above were completed and the observed behavior on the oscilloscope matched the expected output, the driver is functioning correctly."
   ]
  },
  {
   "cell_type": "code",
   "execution_count": 37,
   "metadata": {},
   "outputs": [],
   "source": [
    "scope.reset()"
   ]
  }
 ],
 "metadata": {
  "kernelspec": {
   "display_name": "Python 3",
   "language": "python",
   "name": "python3"
  },
  "language_info": {
   "codemirror_mode": {
    "name": "ipython",
    "version": 3
   },
   "file_extension": ".py",
   "mimetype": "text/x-python",
   "name": "python",
   "nbconvert_exporter": "python",
   "pygments_lexer": "ipython3",
   "version": "3.13.2"
  }
 },
 "nbformat": 4,
 "nbformat_minor": 2
}
