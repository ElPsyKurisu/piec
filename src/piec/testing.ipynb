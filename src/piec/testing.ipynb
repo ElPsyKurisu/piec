{
 "cells": [
  {
   "cell_type": "code",
   "execution_count": 1,
   "metadata": {},
   "outputs": [],
   "source": [
    "from drivers.keysight81150a import Keysight81150a\n",
    "from drivers.keysightdsox3024a import Dsox3024a\n",
    "from measurement_waveforms.discrete_waveform import HysteresisLoop, PUNDPulse\n",
    "from pyvisa import ResourceManager"
   ]
  },
  {
   "cell_type": "code",
   "execution_count": 2,
   "metadata": {},
   "outputs": [
    {
     "data": {
      "text/plain": [
       "('GPIB0::7::INSTR', 'GPIB0::8::INSTR')"
      ]
     },
     "execution_count": 2,
     "metadata": {},
     "output_type": "execute_result"
    }
   ],
   "source": [
    "rm = ResourceManager()\n",
    "rm.list_resources()"
   ]
  },
  {
   "cell_type": "code",
   "execution_count": 3,
   "metadata": {},
   "outputs": [
    {
     "name": "stdout",
     "output_type": "stream",
     "text": [
      "Agilent Technologies,81150A,MY53821602,3.0.0.0-4.6\n",
      "\n",
      "AGILENT TECHNOLOGIES,DSO-X 3024A,MY63080078,02.65.2021030741\n",
      "\n"
     ]
    }
   ],
   "source": [
    "awg = Keysight81150a('GPIB0::8::INSTR')\n",
    "scope = Dsox3024a('GPIB0::7::INSTR')\n",
    "print(awg.idn())\n",
    "print(scope.idn())"
   ]
  },
  {
   "cell_type": "code",
   "execution_count": 4,
   "metadata": {},
   "outputs": [],
   "source": [
    "# experiment = HysteresisLoop(awg, scope, amplitude=2.0, frequency=1.0e5, v_div=1.0, n_cycles=3)\n",
    "# experiment.run_experiment(save_path=r\"C:\\Users\\adqua\\OneDrive\\Documents\\Lab\\pad1_hysteresis_data_test.csv\")"
   ]
  },
  {
   "cell_type": "code",
   "execution_count": 9,
   "metadata": {},
   "outputs": [
    {
     "name": "stdout",
     "output_type": "stream",
     "text": [
      "Estimated Peak-to-Peak Ratio of targetted value is 100.0%\n",
      "AWG configured for a PUND pulse.\n",
      "Capturing waveform of type PUND for 6.000000000000001e-08 seconds...\n",
      "Waveform captured.\n",
      "Waveform data saved to C:\\Users\\adqua\\OneDrive\\Documents\\Lab\\pad1_pund_data.csv\n"
     ]
    }
   ],
   "source": [
    "experiment = PUNDPulse(awg, scope, v_div=0.5, reset_delay=1.0e-8, reset_width=1.0e-8, p_u_delay=1.0e-8, p_u_width=1.0e-8)\n",
    "experiment.run_experiment(save_path=r\"C:\\Users\\adqua\\OneDrive\\Documents\\Lab\\pad1_pund_data.csv\")"
   ]
  }
 ],
 "metadata": {
  "kernelspec": {
   "display_name": "base",
   "language": "python",
   "name": "python3"
  },
  "language_info": {
   "codemirror_mode": {
    "name": "ipython",
    "version": 3
   },
   "file_extension": ".py",
   "mimetype": "text/x-python",
   "name": "python",
   "nbconvert_exporter": "python",
   "pygments_lexer": "ipython3",
   "version": "3.12.4"
  }
 },
 "nbformat": 4,
 "nbformat_minor": 2
}
