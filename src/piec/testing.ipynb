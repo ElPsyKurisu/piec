{
 "cells": [
  {
   "cell_type": "code",
   "execution_count": 1,
   "metadata": {},
   "outputs": [],
   "source": [
    "import piec as pc"
   ]
  },
  {
   "cell_type": "code",
   "execution_count": 1,
   "metadata": {},
   "outputs": [],
   "source": [
    "from drivers.keysight81150a import Keysight81150a\n",
    "from drivers.keysightdsox3024a import Dsox3024a\n",
    "from pyvisa import ResourceManager\n",
    "from measurement_waveforms.discrete_waveform import *\n"
   ]
  },
  {
   "cell_type": "code",
   "execution_count": 2,
   "metadata": {},
   "outputs": [],
   "source": [
    "rm = ResourceManager()"
   ]
  },
  {
   "cell_type": "code",
   "execution_count": 3,
   "metadata": {},
   "outputs": [
    {
     "data": {
      "text/plain": [
       "('GPIB0::7::INSTR', 'GPIB0::8::INSTR')"
      ]
     },
     "execution_count": 3,
     "metadata": {},
     "output_type": "execute_result"
    }
   ],
   "source": [
    "rm.list_resources()"
   ]
  },
  {
   "cell_type": "code",
   "execution_count": 4,
   "metadata": {},
   "outputs": [
    {
     "ename": "TypeError",
     "evalue": "Instrument.__init__() missing 1 required positional argument: 'address'",
     "output_type": "error",
     "traceback": [
      "\u001b[1;31m---------------------------------------------------------------------------\u001b[0m",
      "\u001b[1;31mTypeError\u001b[0m                                 Traceback (most recent call last)",
      "Cell \u001b[1;32mIn[4], line 1\u001b[0m\n\u001b[1;32m----> 1\u001b[0m awg \u001b[38;5;241m=\u001b[39m \u001b[43mKeysight81150a\u001b[49m\u001b[43m(\u001b[49m\u001b[43m)\u001b[49m\n",
      "\u001b[1;31mTypeError\u001b[0m: Instrument.__init__() missing 1 required positional argument: 'address'"
     ]
    }
   ],
   "source": [
    "awg = Keysight81150a()"
   ]
  },
  {
   "cell_type": "code",
   "execution_count": 9,
   "metadata": {},
   "outputs": [],
   "source": [
    "awg = Keysight81150a('GPIB0::8::INSTR')"
   ]
  },
  {
   "cell_type": "code",
   "execution_count": 5,
   "metadata": {},
   "outputs": [],
   "source": [
    "awg = Keysight81150a('GPIB0::8::INSTR')"
   ]
  },
  {
   "cell_type": "code",
   "execution_count": 6,
   "metadata": {},
   "outputs": [],
   "source": [
    "scope = Dsox3024a('GPIB0::7::INSTR')"
   ]
  },
  {
   "cell_type": "code",
   "execution_count": 7,
   "metadata": {},
   "outputs": [
    {
     "data": {
      "text/plain": [
       "'Agilent Technologies,81150A,MY53821602,3.0.0.0-4.6\\n'"
      ]
     },
     "execution_count": 7,
     "metadata": {},
     "output_type": "execute_result"
    }
   ],
   "source": [
    "awg.idn()"
   ]
  },
  {
   "cell_type": "code",
   "execution_count": 8,
   "metadata": {},
   "outputs": [
    {
     "data": {
      "text/plain": [
       "'AGILENT TECHNOLOGIES,DSO-X 3024A,MY63080078,02.65.2021030741\\n'"
      ]
     },
     "execution_count": 8,
     "metadata": {},
     "output_type": "execute_result"
    }
   ],
   "source": [
    "scope.idn()"
   ]
  },
  {
   "cell_type": "code",
   "execution_count": 9,
   "metadata": {},
   "outputs": [
    {
     "name": "stdout",
     "output_type": "stream",
     "text": [
      "Estimated Peak-to-Peak Ratio of targetted value is 100.0%\n",
      "Capturing waveform of type HYSTERESIS for 1e-05 seconds...\n",
      "Waveform captured.\n",
      "Waveform data saved to C:\\Users\\adqua\\OneDrive\\Documents\\Lab\\pad1_hysteresis_data_test.csv\n"
     ]
    }
   ],
   "source": [
    "experiment = HysteresisLoop(awg, scope, amplitude=2.0, frequency=1.0e5, v_div=1.0, n_cycles=3)\n",
    "experiment.run_experiment(save_path=r\"C:\\Users\\adqua\\OneDrive\\Documents\\Lab\\pad1_hysteresis_data_test.csv\")"
   ]
  },
  {
   "cell_type": "code",
   "execution_count": 10,
   "metadata": {},
   "outputs": [
    {
     "name": "stdout",
     "output_type": "stream",
     "text": [
      "Estimated Peak-to-Peak Ratio of targetted value is 50.0%\n",
      "AWG configured for a PUND pulse.\n",
      "Capturing waveform of type PUND for 0.06 seconds...\n",
      "Waveform captured.\n",
      "Waveform data saved to C:\\Users\\adqua\\OneDrive\\Documents\\Lab\\pad1_pund_data.csv\n",
      "WARNING: METADATA SAVE FAILED, CHECK FILENAME AND MEASURMENT DEFINITION\n"
     ]
    }
   ],
   "source": [
    "experiment = PUNDPulse(awg, scope, v_div=0.5)\n",
    "experiment.run_experiment(save_path=r\"C:\\Users\\adqua\\OneDrive\\Documents\\Lab\\pad1_pund_data.csv\")"
   ]
  },
  {
   "cell_type": "code",
   "execution_count": null,
   "metadata": {},
   "outputs": [],
   "source": []
  }
 ],
 "metadata": {
  "kernelspec": {
   "display_name": "base",
   "language": "python",
   "name": "python3"
  },
  "language_info": {
   "codemirror_mode": {
    "name": "ipython",
    "version": 3
   },
   "file_extension": ".py",
   "mimetype": "text/x-python",
   "name": "python",
   "nbconvert_exporter": "python",
   "pygments_lexer": "ipython3",
   "version": "3.12.4"
  }
 },
 "nbformat": 4,
 "nbformat_minor": 2
}
