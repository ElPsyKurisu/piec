{
 "cells": [
  {
   "cell_type": "code",
   "execution_count": 1,
   "metadata": {},
   "outputs": [],
   "source": [
    "from piec.drivers.utilities import PiecManager\n",
    "from piec.drivers.sr830 import Sr830"
   ]
  },
  {
   "cell_type": "code",
   "execution_count": 2,
   "metadata": {},
   "outputs": [
    {
     "data": {
      "text/plain": [
       "('GPIB0::8::INSTR',)"
      ]
     },
     "execution_count": 2,
     "metadata": {},
     "output_type": "execute_result"
    }
   ],
   "source": [
    "pm = PiecManager()\n",
    "pm.list_resources()"
   ]
  },
  {
   "cell_type": "code",
   "execution_count": 3,
   "metadata": {},
   "outputs": [],
   "source": [
    "lockin = Sr830('GPIB0::8::INSTR')"
   ]
  },
  {
   "cell_type": "code",
   "execution_count": 4,
   "metadata": {},
   "outputs": [
    {
     "data": {
      "text/plain": [
       "'Stanford_Research_Systems,SR830,s/n54854,ver1.07 \\n'"
      ]
     },
     "execution_count": 4,
     "metadata": {},
     "output_type": "execute_result"
    }
   ],
   "source": [
    "lockin.idn()"
   ]
  },
  {
   "cell_type": "code",
   "execution_count": 5,
   "metadata": {},
   "outputs": [],
   "source": [
    "lockin.initialize()"
   ]
  },
  {
   "cell_type": "code",
   "execution_count": 22,
   "metadata": {},
   "outputs": [],
   "source": [
    "lockin.configure_reference(harmonic=100)"
   ]
  },
  {
   "cell_type": "code",
   "execution_count": null,
   "metadata": {},
   "outputs": [
    {
     "ename": "AttributeError",
     "evalue": "'int' object has no attribute 'lower'",
     "output_type": "error",
     "traceback": [
      "\u001b[31m---------------------------------------------------------------------------\u001b[39m",
      "\u001b[31mAttributeError\u001b[39m                            Traceback (most recent call last)",
      "\u001b[36mCell\u001b[39m\u001b[36m \u001b[39m\u001b[32mIn[35]\u001b[39m\u001b[32m, line 1\u001b[39m\n\u001b[32m----> \u001b[39m\u001b[32m1\u001b[39m \u001b[43mlockin\u001b[49m\u001b[43m.\u001b[49m\u001b[43mconfigure_display_outputs\u001b[49m\u001b[43m(\u001b[49m\u001b[43mchannel\u001b[49m\u001b[43m=\u001b[49m\u001b[33;43m'\u001b[39;49m\u001b[33;43m1\u001b[39;49m\u001b[33;43m'\u001b[39;49m\u001b[43m,\u001b[49m\u001b[43m \u001b[49m\u001b[43mdisplay_expand_what\u001b[49m\u001b[43m=\u001b[49m\u001b[33;43m'\u001b[39;49m\u001b[33;43mr\u001b[39;49m\u001b[33;43m'\u001b[39;49m\u001b[43m,\u001b[49m\u001b[43m \u001b[49m\u001b[43mdisplay_output_expand\u001b[49m\u001b[43m=\u001b[49m\u001b[32;43m10\u001b[39;49m\u001b[43m,\u001b[49m\u001b[43m \u001b[49m\u001b[43mdisplay_output_offset\u001b[49m\u001b[43m=\u001b[49m\u001b[33;43m\"\u001b[39;49m\u001b[33;43m5\u001b[39;49m\u001b[33;43m\"\u001b[39;49m\u001b[43m)\u001b[49m\n",
      "\u001b[36mFile \u001b[39m\u001b[32mc:\\Users\\geofr\\AppData\\Local\\Programs\\Python\\Python313\\Lib\\site-packages\\piec\\drivers\\scpi_instrument.py:815\u001b[39m, in \u001b[36mLockin.configure_display_outputs\u001b[39m\u001b[34m(self, channel, display, ratio, display_output, display_output_offset, display_output_expand, display_expand_what)\u001b[39m\n\u001b[32m    802\u001b[39m \u001b[38;5;250m\u001b[39m\u001b[33;03m\"\"\"\u001b[39;00m\n\u001b[32m    803\u001b[39m \u001b[33;03mConfigures the channel displays and what are output by them\u001b[39;00m\n\u001b[32m    804\u001b[39m \n\u001b[32m   (...)\u001b[39m\u001b[32m    812\u001b[39m \u001b[33;03m    expand (str): factor to expand by [1, 10, 100]\u001b[39;00m\n\u001b[32m    813\u001b[39m \u001b[33;03m\"\"\"\u001b[39;00m\n\u001b[32m    814\u001b[39m \u001b[38;5;28mlocals\u001b[39m().update(convert_to_lowercase(\u001b[38;5;28mlocals\u001b[39m())) \u001b[38;5;66;03m#ensures no casechecking necessary NOTE: Should use in all funcs where this could be an issue\u001b[39;00m\n\u001b[32m--> \u001b[39m\u001b[32m815\u001b[39m \u001b[38;5;28;43mself\u001b[39;49m\u001b[43m.\u001b[49m\u001b[43m_check_params\u001b[49m\u001b[43m(\u001b[49m\u001b[38;5;28;43mlocals\u001b[39;49m\u001b[43m(\u001b[49m\u001b[43m)\u001b[49m\u001b[43m)\u001b[49m \u001b[38;5;66;03m#turns on type checking\u001b[39;00m\n\u001b[32m    816\u001b[39m \u001b[38;5;28;01mif\u001b[39;00m display \u001b[38;5;129;01mis\u001b[39;00m \u001b[38;5;129;01mnot\u001b[39;00m \u001b[38;5;28;01mNone\u001b[39;00m:\n\u001b[32m    817\u001b[39m     \u001b[38;5;28;01mif\u001b[39;00m ratio == \u001b[38;5;28;01mNone\u001b[39;00m:\n",
      "\u001b[36mFile \u001b[39m\u001b[32mc:\\Users\\geofr\\AppData\\Local\\Programs\\Python\\Python313\\Lib\\site-packages\\piec\\drivers\\scpi_instrument.py:158\u001b[39m, in \u001b[36mSCPI_Instrument._check_params\u001b[39m\u001b[34m(self, locals_dict)\u001b[39m\n\u001b[32m    156\u001b[39m         exit_with_error(\u001b[33m\"\u001b[39m\u001b[33mError input value of \u001b[39m\u001b[38;5;130;01m\\033\u001b[39;00m\u001b[33m[1m\u001b[39m\u001b[38;5;132;01m{}\u001b[39;00m\u001b[38;5;130;01m\\033\u001b[39;00m\u001b[33m[0m for arg \u001b[39m\u001b[38;5;130;01m\\033\u001b[39;00m\u001b[33m[1m\u001b[39m\u001b[38;5;132;01m{}\u001b[39;00m\u001b[38;5;130;01m\\033\u001b[39;00m\u001b[33m[0m is out of acceptable Range \u001b[39m\u001b[38;5;130;01m\\033\u001b[39;00m\u001b[33m[1m\u001b[39m\u001b[38;5;132;01m{}\u001b[39;00m\u001b[38;5;130;01m\\033\u001b[39;00m\u001b[33m[0m\u001b[39m\u001b[33m\"\u001b[39m.format(input_value, key, attribute_value))\n\u001b[32m    157\u001b[39m \u001b[38;5;28;01mif\u001b[39;00m \u001b[38;5;28mtype\u001b[39m(attribute_value) == \u001b[38;5;28mlist\u001b[39m:\n\u001b[32m--> \u001b[39m\u001b[32m158\u001b[39m     \u001b[38;5;28;01mif\u001b[39;00m \u001b[38;5;129;01mnot\u001b[39;00m \u001b[43mis_contained\u001b[49m\u001b[43m(\u001b[49m\u001b[43minput_value\u001b[49m\u001b[43m,\u001b[49m\u001b[43m \u001b[49m\u001b[43mattribute_value\u001b[49m\u001b[43m)\u001b[49m: \u001b[38;5;66;03m#checks if the input value is in the allowed list\u001b[39;00m\n\u001b[32m    159\u001b[39m         exit_with_error(\u001b[33m\"\u001b[39m\u001b[33mError input value of \u001b[39m\u001b[38;5;130;01m\\033\u001b[39;00m\u001b[33m[1m\u001b[39m\u001b[38;5;132;01m{}\u001b[39;00m\u001b[38;5;130;01m\\033\u001b[39;00m\u001b[33m[0m for arg \u001b[39m\u001b[38;5;130;01m\\033\u001b[39;00m\u001b[33m[1m\u001b[39m\u001b[38;5;132;01m{}\u001b[39;00m\u001b[38;5;130;01m\\033\u001b[39;00m\u001b[33m[0m is not in list of acceptable \u001b[39m\u001b[38;5;130;01m\\033\u001b[39;00m\u001b[33m[1m\u001b[39m\u001b[38;5;132;01m{}\u001b[39;00m\u001b[38;5;130;01m\\033\u001b[39;00m\u001b[33m[0m\u001b[39m\u001b[33m\"\u001b[39m.format(input_value, key, attribute_value))\n\u001b[32m    160\u001b[39m \u001b[38;5;28;01mif\u001b[39;00m \u001b[38;5;28mtype\u001b[39m(attribute_value) == \u001b[38;5;28mdict\u001b[39m:\n\u001b[32m    161\u001b[39m     \u001b[38;5;66;03m#need helper function here\u001b[39;00m\n",
      "\u001b[36mFile \u001b[39m\u001b[32mc:\\Users\\geofr\\AppData\\Local\\Programs\\Python\\Python313\\Lib\\site-packages\\piec\\drivers\\scpi_instrument.py:1004\u001b[39m, in \u001b[36mis_contained\u001b[39m\u001b[34m(value, lst)\u001b[39m\n\u001b[32m   1000\u001b[39m \u001b[38;5;28;01mdef\u001b[39;00m\u001b[38;5;250m \u001b[39m\u001b[34mis_contained\u001b[39m(value, lst):\n\u001b[32m   1001\u001b[39m \u001b[38;5;250m    \u001b[39m\u001b[33;03m\"\"\"\u001b[39;00m\n\u001b[32m   1002\u001b[39m \u001b[33;03m    Helper Function that checks if a string is contained within a list and ignores case sensitivity\u001b[39;00m\n\u001b[32m   1003\u001b[39m \u001b[33;03m    \"\"\"\u001b[39;00m\n\u001b[32m-> \u001b[39m\u001b[32m1004\u001b[39m     my_string = \u001b[43mvalue\u001b[49m\u001b[43m.\u001b[49m\u001b[43mlower\u001b[49m()\n\u001b[32m   1005\u001b[39m     my_list = [item.lower() \u001b[38;5;28;01mfor\u001b[39;00m item \u001b[38;5;129;01min\u001b[39;00m lst]\n\u001b[32m   1006\u001b[39m     \u001b[38;5;28;01mreturn\u001b[39;00m my_string \u001b[38;5;129;01min\u001b[39;00m my_list\n",
      "\u001b[31mAttributeError\u001b[39m: 'int' object has no attribute 'lower'"
     ]
    }
   ],
   "source": [
    "lockin.configure_display_outputs(channel='1', display_expand_what='r', display_output_expand='10', display_output_offset=\"5\")"
   ]
  },
  {
   "cell_type": "code",
   "execution_count": 11,
   "metadata": {},
   "outputs": [
    {
     "data": {
      "text/plain": [
       "[0.0, 0.0]"
      ]
     },
     "execution_count": 11,
     "metadata": {},
     "output_type": "execute_result"
    }
   ],
   "source": [
    "lockin.get_X_Y()"
   ]
  },
  {
   "cell_type": "code",
   "execution_count": 12,
   "metadata": {},
   "outputs": [
    {
     "data": {
      "text/plain": [
       "[0.0, 0.0]"
      ]
     },
     "execution_count": 12,
     "metadata": {},
     "output_type": "execute_result"
    }
   ],
   "source": [
    "lockin.get_R_theta()"
   ]
  },
  {
   "cell_type": "code",
   "execution_count": null,
   "metadata": {},
   "outputs": [],
   "source": []
  }
 ],
 "metadata": {
  "kernelspec": {
   "display_name": "Python 3",
   "language": "python",
   "name": "python3"
  },
  "language_info": {
   "codemirror_mode": {
    "name": "ipython",
    "version": 3
   },
   "file_extension": ".py",
   "mimetype": "text/x-python",
   "name": "python",
   "nbconvert_exporter": "python",
   "pygments_lexer": "ipython3",
   "version": "3.13.2"
  }
 },
 "nbformat": 4,
 "nbformat_minor": 2
}
