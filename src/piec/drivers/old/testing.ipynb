{
 "cells": [
  {
   "cell_type": "code",
   "execution_count": 1,
   "metadata": {},
   "outputs": [],
   "source": [
    "from piec.drivers.scpi_instrument import DMM\n",
    "from piec.drivers.utilities import PiecManager\n",
    "from piec.drivers import scpi_instrument\n",
    "pm = PiecManager()\n",
    "from pyvisa import ResourceManager"
   ]
  },
  {
   "cell_type": "code",
   "execution_count": 6,
   "metadata": {},
   "outputs": [
    {
     "data": {
      "text/plain": [
       "('ASRL3::INSTR',)"
      ]
     },
     "execution_count": 6,
     "metadata": {},
     "output_type": "execute_result"
    }
   ],
   "source": [
    "rm = ResourceManager()\n",
    "rm.list_resources()"
   ]
  },
  {
   "cell_type": "code",
   "execution_count": 2,
   "metadata": {},
   "outputs": [
    {
     "data": {
      "text/plain": [
       "('ASRL3::INSTR',)"
      ]
     },
     "execution_count": 2,
     "metadata": {},
     "output_type": "execute_result"
    }
   ],
   "source": [
    "pm.list_resources()"
   ]
  },
  {
   "cell_type": "code",
   "execution_count": null,
   "metadata": {},
   "outputs": [],
   "source": [
    "dmm1 = scpi_instrument()"
   ]
  },
  {
   "cell_type": "code",
   "execution_count": 7,
   "metadata": {},
   "outputs": [
    {
     "ename": "VisaIOError",
     "evalue": "VI_ERROR_RSRC_NFOUND (-1073807343): Insufficient location information or the requested device or resource is not present in the system.",
     "output_type": "error",
     "traceback": [
      "\u001b[31m---------------------------------------------------------------------------\u001b[39m",
      "\u001b[31mVisaIOError\u001b[39m                               Traceback (most recent call last)",
      "\u001b[36mCell\u001b[39m\u001b[36m \u001b[39m\u001b[32mIn[7]\u001b[39m\u001b[32m, line 1\u001b[39m\n\u001b[32m----> \u001b[39m\u001b[32m1\u001b[39m dmm = \u001b[43mDMM\u001b[49m\u001b[43m(\u001b[49m\u001b[33;43m'\u001b[39;49m\u001b[33;43mGPIB0::23::INSTR\u001b[39;49m\u001b[33;43m'\u001b[39;49m\u001b[43m)\u001b[49m\n",
      "\u001b[36mFile \u001b[39m\u001b[32m~\\Desktop\\Research\\Github\\piec\\src\\piec\\drivers\\scpi_instrument.py:113\u001b[39m, in \u001b[36mSCPI_Instrument.__init__\u001b[39m\u001b[34m(self, address, check_params)\u001b[39m\n\u001b[32m    111\u001b[39m     \u001b[38;5;28mself\u001b[39m.instrument = VirtualRMInstrument() \u001b[38;5;66;03m# initiate instrument in virtual mode\u001b[39;00m\n\u001b[32m    112\u001b[39m \u001b[38;5;28;01melse\u001b[39;00m:\n\u001b[32m--> \u001b[39m\u001b[32m113\u001b[39m     \u001b[38;5;28mself\u001b[39m.instrument = \u001b[43mrm\u001b[49m\u001b[43m.\u001b[49m\u001b[43mopen_resource\u001b[49m\u001b[43m(\u001b[49m\u001b[43maddress\u001b[49m\u001b[43m)\u001b[49m \u001b[38;5;66;03m#comment out to debug without VISA connection\u001b[39;00m\n\u001b[32m    114\u001b[39m \u001b[38;5;28mself\u001b[39m.virtual = (address==\u001b[33m'\u001b[39m\u001b[33mVIRTUAL\u001b[39m\u001b[33m'\u001b[39m)\n\u001b[32m    115\u001b[39m \u001b[38;5;28mself\u001b[39m.check_params = check_params\n",
      "\u001b[36mFile \u001b[39m\u001b[32mc:\\Users\\geofr\\AppData\\Local\\Programs\\Python\\Python313\\Lib\\site-packages\\pyvisa\\highlevel.py:3292\u001b[39m, in \u001b[36mResourceManager.open_resource\u001b[39m\u001b[34m(self, resource_name, access_mode, open_timeout, resource_pyclass, **kwargs)\u001b[39m\n\u001b[32m   3286\u001b[39m     \u001b[38;5;28;01mif\u001b[39;00m \u001b[38;5;129;01mnot\u001b[39;00m present:\n\u001b[32m   3287\u001b[39m         \u001b[38;5;28;01mraise\u001b[39;00m \u001b[38;5;167;01mValueError\u001b[39;00m(\n\u001b[32m   3288\u001b[39m             \u001b[33m\"\u001b[39m\u001b[38;5;132;01m%r\u001b[39;00m\u001b[33m is not a valid attribute for type \u001b[39m\u001b[38;5;132;01m%s\u001b[39;00m\u001b[33m\"\u001b[39m\n\u001b[32m   3289\u001b[39m             % (key, res.\u001b[34m__class__\u001b[39m.\u001b[34m__name__\u001b[39m)\n\u001b[32m   3290\u001b[39m         )\n\u001b[32m-> \u001b[39m\u001b[32m3292\u001b[39m \u001b[43mres\u001b[49m\u001b[43m.\u001b[49m\u001b[43mopen\u001b[49m\u001b[43m(\u001b[49m\u001b[43maccess_mode\u001b[49m\u001b[43m,\u001b[49m\u001b[43m \u001b[49m\u001b[43mopen_timeout\u001b[49m\u001b[43m)\u001b[49m\n\u001b[32m   3294\u001b[39m \u001b[38;5;28;01mfor\u001b[39;00m key, value \u001b[38;5;129;01min\u001b[39;00m kwargs.items():\n\u001b[32m   3295\u001b[39m     \u001b[38;5;28msetattr\u001b[39m(res, key, value)\n",
      "\u001b[36mFile \u001b[39m\u001b[32mc:\\Users\\geofr\\AppData\\Local\\Programs\\Python\\Python313\\Lib\\site-packages\\pyvisa\\resources\\resource.py:281\u001b[39m, in \u001b[36mResource.open\u001b[39m\u001b[34m(self, access_mode, open_timeout)\u001b[39m\n\u001b[32m    277\u001b[39m logger.debug(\u001b[33m\"\u001b[39m\u001b[38;5;132;01m%s\u001b[39;00m\u001b[33m - opening ...\u001b[39m\u001b[33m\"\u001b[39m, \u001b[38;5;28mself\u001b[39m._resource_name, extra=\u001b[38;5;28mself\u001b[39m._logging_extra)\n\u001b[32m    278\u001b[39m \u001b[38;5;28;01mwith\u001b[39;00m \u001b[38;5;28mself\u001b[39m._resource_manager.ignore_warning(\n\u001b[32m    279\u001b[39m     constants.StatusCode.success_device_not_present\n\u001b[32m    280\u001b[39m ):\n\u001b[32m--> \u001b[39m\u001b[32m281\u001b[39m     \u001b[38;5;28mself\u001b[39m.session, status = \u001b[38;5;28;43mself\u001b[39;49m\u001b[43m.\u001b[49m\u001b[43m_resource_manager\u001b[49m\u001b[43m.\u001b[49m\u001b[43mopen_bare_resource\u001b[49m\u001b[43m(\u001b[49m\n\u001b[32m    282\u001b[39m \u001b[43m        \u001b[49m\u001b[38;5;28;43mself\u001b[39;49m\u001b[43m.\u001b[49m\u001b[43m_resource_name\u001b[49m\u001b[43m,\u001b[49m\u001b[43m \u001b[49m\u001b[43maccess_mode\u001b[49m\u001b[43m,\u001b[49m\u001b[43m \u001b[49m\u001b[43mopen_timeout\u001b[49m\n\u001b[32m    283\u001b[39m \u001b[43m    \u001b[49m\u001b[43m)\u001b[49m\n\u001b[32m    285\u001b[39m     \u001b[38;5;28;01mif\u001b[39;00m status == constants.StatusCode.success_device_not_present:\n\u001b[32m    286\u001b[39m         \u001b[38;5;66;03m# The device was not ready when we opened the session.\u001b[39;00m\n\u001b[32m    287\u001b[39m         \u001b[38;5;66;03m# Now it gets five seconds more to become ready.\u001b[39;00m\n\u001b[32m    288\u001b[39m         \u001b[38;5;66;03m# Every 0.1 seconds we probe it with viClear.\u001b[39;00m\n\u001b[32m    289\u001b[39m         start_time = time.time()\n",
      "\u001b[36mFile \u001b[39m\u001b[32mc:\\Users\\geofr\\AppData\\Local\\Programs\\Python\\Python313\\Lib\\site-packages\\pyvisa\\highlevel.py:3217\u001b[39m, in \u001b[36mResourceManager.open_bare_resource\u001b[39m\u001b[34m(self, resource_name, access_mode, open_timeout)\u001b[39m\n\u001b[32m   3188\u001b[39m \u001b[38;5;28;01mdef\u001b[39;00m\u001b[38;5;250m \u001b[39m\u001b[34mopen_bare_resource\u001b[39m(\n\u001b[32m   3189\u001b[39m     \u001b[38;5;28mself\u001b[39m,\n\u001b[32m   3190\u001b[39m     resource_name: \u001b[38;5;28mstr\u001b[39m,\n\u001b[32m   3191\u001b[39m     access_mode: constants.AccessModes = constants.AccessModes.no_lock,\n\u001b[32m   3192\u001b[39m     open_timeout: \u001b[38;5;28mint\u001b[39m = constants.VI_TMO_IMMEDIATE,\n\u001b[32m   3193\u001b[39m ) -> Tuple[VISASession, StatusCode]:\n\u001b[32m   3194\u001b[39m \u001b[38;5;250m    \u001b[39m\u001b[33;03m\"\"\"Open the specified resource without wrapping into a class.\u001b[39;00m\n\u001b[32m   3195\u001b[39m \n\u001b[32m   3196\u001b[39m \u001b[33;03m    Parameters\u001b[39;00m\n\u001b[32m   (...)\u001b[39m\u001b[32m   3215\u001b[39m \n\u001b[32m   3216\u001b[39m \u001b[33;03m    \"\"\"\u001b[39;00m\n\u001b[32m-> \u001b[39m\u001b[32m3217\u001b[39m     \u001b[38;5;28;01mreturn\u001b[39;00m \u001b[38;5;28;43mself\u001b[39;49m\u001b[43m.\u001b[49m\u001b[43mvisalib\u001b[49m\u001b[43m.\u001b[49m\u001b[43mopen\u001b[49m\u001b[43m(\u001b[49m\u001b[38;5;28;43mself\u001b[39;49m\u001b[43m.\u001b[49m\u001b[43msession\u001b[49m\u001b[43m,\u001b[49m\u001b[43m \u001b[49m\u001b[43mresource_name\u001b[49m\u001b[43m,\u001b[49m\u001b[43m \u001b[49m\u001b[43maccess_mode\u001b[49m\u001b[43m,\u001b[49m\u001b[43m \u001b[49m\u001b[43mopen_timeout\u001b[49m\u001b[43m)\u001b[49m\n",
      "\u001b[36mFile \u001b[39m\u001b[32mc:\\Users\\geofr\\AppData\\Local\\Programs\\Python\\Python313\\Lib\\site-packages\\pyvisa\\ctwrapper\\functions.py:1850\u001b[39m, in \u001b[36mopen\u001b[39m\u001b[34m(library, session, resource_name, access_mode, open_timeout)\u001b[39m\n\u001b[32m   1846\u001b[39m out_session = ViSession()\n\u001b[32m   1848\u001b[39m \u001b[38;5;66;03m# [ViSession, ViRsrc, ViAccessMode, ViUInt32, ViPSession]\u001b[39;00m\n\u001b[32m   1849\u001b[39m \u001b[38;5;66;03m# ViRsrc converts from (str, unicode, bytes) to bytes\u001b[39;00m\n\u001b[32m-> \u001b[39m\u001b[32m1850\u001b[39m ret = \u001b[43mlibrary\u001b[49m\u001b[43m.\u001b[49m\u001b[43mviOpen\u001b[49m\u001b[43m(\u001b[49m\n\u001b[32m   1851\u001b[39m \u001b[43m    \u001b[49m\u001b[43msession\u001b[49m\u001b[43m,\u001b[49m\u001b[43m \u001b[49m\u001b[43mresource_name\u001b[49m\u001b[43m,\u001b[49m\u001b[43m \u001b[49m\u001b[43maccess_mode\u001b[49m\u001b[43m,\u001b[49m\u001b[43m \u001b[49m\u001b[43mopen_timeout\u001b[49m\u001b[43m,\u001b[49m\u001b[43m \u001b[49m\u001b[43mbyref\u001b[49m\u001b[43m(\u001b[49m\u001b[43mout_session\u001b[49m\u001b[43m)\u001b[49m\n\u001b[32m   1852\u001b[39m \u001b[43m\u001b[49m\u001b[43m)\u001b[49m\n\u001b[32m   1853\u001b[39m \u001b[38;5;28;01mreturn\u001b[39;00m out_session.value, ret\n",
      "\u001b[36mFile \u001b[39m\u001b[32mc:\\Users\\geofr\\AppData\\Local\\Programs\\Python\\Python313\\Lib\\site-packages\\pyvisa\\ctwrapper\\highlevel.py:226\u001b[39m, in \u001b[36mIVIVisaLibrary._return_handler\u001b[39m\u001b[34m(self, ret_value, func, arguments)\u001b[39m\n\u001b[32m    223\u001b[39m         \u001b[38;5;66;03m# Set session back to a safe value\u001b[39;00m\n\u001b[32m    224\u001b[39m         session = \u001b[38;5;28;01mNone\u001b[39;00m\n\u001b[32m--> \u001b[39m\u001b[32m226\u001b[39m \u001b[38;5;28;01mreturn\u001b[39;00m \u001b[38;5;28;43mself\u001b[39;49m\u001b[43m.\u001b[49m\u001b[43mhandle_return_value\u001b[49m\u001b[43m(\u001b[49m\u001b[43msession\u001b[49m\u001b[43m,\u001b[49m\u001b[43m \u001b[49m\u001b[43mret_value\u001b[49m\u001b[43m)\u001b[49m\n",
      "\u001b[36mFile \u001b[39m\u001b[32mc:\\Users\\geofr\\AppData\\Local\\Programs\\Python\\Python313\\Lib\\site-packages\\pyvisa\\highlevel.py:251\u001b[39m, in \u001b[36mVisaLibraryBase.handle_return_value\u001b[39m\u001b[34m(self, session, status_code)\u001b[39m\n\u001b[32m    248\u001b[39m     \u001b[38;5;28mself\u001b[39m._last_status_in_session[session] = rv\n\u001b[32m    250\u001b[39m \u001b[38;5;28;01mif\u001b[39;00m rv < \u001b[32m0\u001b[39m:\n\u001b[32m--> \u001b[39m\u001b[32m251\u001b[39m     \u001b[38;5;28;01mraise\u001b[39;00m errors.VisaIOError(rv)\n\u001b[32m    253\u001b[39m \u001b[38;5;28;01mif\u001b[39;00m rv \u001b[38;5;129;01min\u001b[39;00m \u001b[38;5;28mself\u001b[39m.issue_warning_on:\n\u001b[32m    254\u001b[39m     \u001b[38;5;28;01mif\u001b[39;00m session \u001b[38;5;129;01mand\u001b[39;00m rv \u001b[38;5;129;01mnot\u001b[39;00m \u001b[38;5;129;01min\u001b[39;00m \u001b[38;5;28mself\u001b[39m._ignore_warning_in_session[session]:\n",
      "\u001b[31mVisaIOError\u001b[39m: VI_ERROR_RSRC_NFOUND (-1073807343): Insufficient location information or the requested device or resource is not present in the system."
     ]
    }
   ],
   "source": [
    "dmm = DMM('GPIB0::23::INSTR')"
   ]
  },
  {
   "cell_type": "code",
   "execution_count": 2,
   "metadata": {},
   "outputs": [
    {
     "name": "stdout",
     "output_type": "stream",
     "text": [
      "INITIALIZING VIRTUAL RESOURCE MANAGER, VISA NOT CONNECTED\n"
     ]
    }
   ],
   "source": [
    "test_scope = Dsox3024a(\"VIRTUAL\")"
   ]
  },
  {
   "cell_type": "code",
   "execution_count": 3,
   "metadata": {},
   "outputs": [],
   "source": [
    "test_scope.setup()"
   ]
  },
  {
   "cell_type": "code",
   "execution_count": 3,
   "metadata": {},
   "outputs": [],
   "source": [
    "lockin = Sr830('GPIB0::8::INSTR')"
   ]
  },
  {
   "cell_type": "code",
   "execution_count": 4,
   "metadata": {},
   "outputs": [
    {
     "data": {
      "text/plain": [
       "'Stanford_Research_Systems,SR830,s/n54854,ver1.07 \\n'"
      ]
     },
     "execution_count": 4,
     "metadata": {},
     "output_type": "execute_result"
    }
   ],
   "source": [
    "lockin.idn()"
   ]
  },
  {
   "cell_type": "code",
   "execution_count": 5,
   "metadata": {},
   "outputs": [],
   "source": [
    "lockin.initialize()"
   ]
  },
  {
   "cell_type": "code",
   "execution_count": 22,
   "metadata": {},
   "outputs": [],
   "source": [
    "lockin.configure_reference(harmonic=100)"
   ]
  },
  {
   "cell_type": "code",
   "execution_count": null,
   "metadata": {},
   "outputs": [
    {
     "ename": "AttributeError",
     "evalue": "'int' object has no attribute 'lower'",
     "output_type": "error",
     "traceback": [
      "\u001b[31m---------------------------------------------------------------------------\u001b[39m",
      "\u001b[31mAttributeError\u001b[39m                            Traceback (most recent call last)",
      "\u001b[36mCell\u001b[39m\u001b[36m \u001b[39m\u001b[32mIn[35]\u001b[39m\u001b[32m, line 1\u001b[39m\n\u001b[32m----> \u001b[39m\u001b[32m1\u001b[39m \u001b[43mlockin\u001b[49m\u001b[43m.\u001b[49m\u001b[43mconfigure_display_outputs\u001b[49m\u001b[43m(\u001b[49m\u001b[43mchannel\u001b[49m\u001b[43m=\u001b[49m\u001b[33;43m'\u001b[39;49m\u001b[33;43m1\u001b[39;49m\u001b[33;43m'\u001b[39;49m\u001b[43m,\u001b[49m\u001b[43m \u001b[49m\u001b[43mdisplay_expand_what\u001b[49m\u001b[43m=\u001b[49m\u001b[33;43m'\u001b[39;49m\u001b[33;43mr\u001b[39;49m\u001b[33;43m'\u001b[39;49m\u001b[43m,\u001b[49m\u001b[43m \u001b[49m\u001b[43mdisplay_output_expand\u001b[49m\u001b[43m=\u001b[49m\u001b[32;43m10\u001b[39;49m\u001b[43m,\u001b[49m\u001b[43m \u001b[49m\u001b[43mdisplay_output_offset\u001b[49m\u001b[43m=\u001b[49m\u001b[33;43m\"\u001b[39;49m\u001b[33;43m5\u001b[39;49m\u001b[33;43m\"\u001b[39;49m\u001b[43m)\u001b[49m\n",
      "\u001b[36mFile \u001b[39m\u001b[32mc:\\Users\\geofr\\AppData\\Local\\Programs\\Python\\Python313\\Lib\\site-packages\\piec\\drivers\\scpi_instrument.py:815\u001b[39m, in \u001b[36mLockin.configure_display_outputs\u001b[39m\u001b[34m(self, channel, display, ratio, display_output, display_output_offset, display_output_expand, display_expand_what)\u001b[39m\n\u001b[32m    802\u001b[39m \u001b[38;5;250m\u001b[39m\u001b[33;03m\"\"\"\u001b[39;00m\n\u001b[32m    803\u001b[39m \u001b[33;03mConfigures the channel displays and what are output by them\u001b[39;00m\n\u001b[32m    804\u001b[39m \n\u001b[32m   (...)\u001b[39m\u001b[32m    812\u001b[39m \u001b[33;03m    expand (str): factor to expand by [1, 10, 100]\u001b[39;00m\n\u001b[32m    813\u001b[39m \u001b[33;03m\"\"\"\u001b[39;00m\n\u001b[32m    814\u001b[39m \u001b[38;5;28mlocals\u001b[39m().update(convert_to_lowercase(\u001b[38;5;28mlocals\u001b[39m())) \u001b[38;5;66;03m#ensures no casechecking necessary NOTE: Should use in all funcs where this could be an issue\u001b[39;00m\n\u001b[32m--> \u001b[39m\u001b[32m815\u001b[39m \u001b[38;5;28;43mself\u001b[39;49m\u001b[43m.\u001b[49m\u001b[43m_check_params\u001b[49m\u001b[43m(\u001b[49m\u001b[38;5;28;43mlocals\u001b[39;49m\u001b[43m(\u001b[49m\u001b[43m)\u001b[49m\u001b[43m)\u001b[49m \u001b[38;5;66;03m#turns on type checking\u001b[39;00m\n\u001b[32m    816\u001b[39m \u001b[38;5;28;01mif\u001b[39;00m display \u001b[38;5;129;01mis\u001b[39;00m \u001b[38;5;129;01mnot\u001b[39;00m \u001b[38;5;28;01mNone\u001b[39;00m:\n\u001b[32m    817\u001b[39m     \u001b[38;5;28;01mif\u001b[39;00m ratio == \u001b[38;5;28;01mNone\u001b[39;00m:\n",
      "\u001b[36mFile \u001b[39m\u001b[32mc:\\Users\\geofr\\AppData\\Local\\Programs\\Python\\Python313\\Lib\\site-packages\\piec\\drivers\\scpi_instrument.py:158\u001b[39m, in \u001b[36mSCPI_Instrument._check_params\u001b[39m\u001b[34m(self, locals_dict)\u001b[39m\n\u001b[32m    156\u001b[39m         exit_with_error(\u001b[33m\"\u001b[39m\u001b[33mError input value of \u001b[39m\u001b[38;5;130;01m\\033\u001b[39;00m\u001b[33m[1m\u001b[39m\u001b[38;5;132;01m{}\u001b[39;00m\u001b[38;5;130;01m\\033\u001b[39;00m\u001b[33m[0m for arg \u001b[39m\u001b[38;5;130;01m\\033\u001b[39;00m\u001b[33m[1m\u001b[39m\u001b[38;5;132;01m{}\u001b[39;00m\u001b[38;5;130;01m\\033\u001b[39;00m\u001b[33m[0m is out of acceptable Range \u001b[39m\u001b[38;5;130;01m\\033\u001b[39;00m\u001b[33m[1m\u001b[39m\u001b[38;5;132;01m{}\u001b[39;00m\u001b[38;5;130;01m\\033\u001b[39;00m\u001b[33m[0m\u001b[39m\u001b[33m\"\u001b[39m.format(input_value, key, attribute_value))\n\u001b[32m    157\u001b[39m \u001b[38;5;28;01mif\u001b[39;00m \u001b[38;5;28mtype\u001b[39m(attribute_value) == \u001b[38;5;28mlist\u001b[39m:\n\u001b[32m--> \u001b[39m\u001b[32m158\u001b[39m     \u001b[38;5;28;01mif\u001b[39;00m \u001b[38;5;129;01mnot\u001b[39;00m \u001b[43mis_contained\u001b[49m\u001b[43m(\u001b[49m\u001b[43minput_value\u001b[49m\u001b[43m,\u001b[49m\u001b[43m \u001b[49m\u001b[43mattribute_value\u001b[49m\u001b[43m)\u001b[49m: \u001b[38;5;66;03m#checks if the input value is in the allowed list\u001b[39;00m\n\u001b[32m    159\u001b[39m         exit_with_error(\u001b[33m\"\u001b[39m\u001b[33mError input value of \u001b[39m\u001b[38;5;130;01m\\033\u001b[39;00m\u001b[33m[1m\u001b[39m\u001b[38;5;132;01m{}\u001b[39;00m\u001b[38;5;130;01m\\033\u001b[39;00m\u001b[33m[0m for arg \u001b[39m\u001b[38;5;130;01m\\033\u001b[39;00m\u001b[33m[1m\u001b[39m\u001b[38;5;132;01m{}\u001b[39;00m\u001b[38;5;130;01m\\033\u001b[39;00m\u001b[33m[0m is not in list of acceptable \u001b[39m\u001b[38;5;130;01m\\033\u001b[39;00m\u001b[33m[1m\u001b[39m\u001b[38;5;132;01m{}\u001b[39;00m\u001b[38;5;130;01m\\033\u001b[39;00m\u001b[33m[0m\u001b[39m\u001b[33m\"\u001b[39m.format(input_value, key, attribute_value))\n\u001b[32m    160\u001b[39m \u001b[38;5;28;01mif\u001b[39;00m \u001b[38;5;28mtype\u001b[39m(attribute_value) == \u001b[38;5;28mdict\u001b[39m:\n\u001b[32m    161\u001b[39m     \u001b[38;5;66;03m#need helper function here\u001b[39;00m\n",
      "\u001b[36mFile \u001b[39m\u001b[32mc:\\Users\\geofr\\AppData\\Local\\Programs\\Python\\Python313\\Lib\\site-packages\\piec\\drivers\\scpi_instrument.py:1004\u001b[39m, in \u001b[36mis_contained\u001b[39m\u001b[34m(value, lst)\u001b[39m\n\u001b[32m   1000\u001b[39m \u001b[38;5;28;01mdef\u001b[39;00m\u001b[38;5;250m \u001b[39m\u001b[34mis_contained\u001b[39m(value, lst):\n\u001b[32m   1001\u001b[39m \u001b[38;5;250m    \u001b[39m\u001b[33;03m\"\"\"\u001b[39;00m\n\u001b[32m   1002\u001b[39m \u001b[33;03m    Helper Function that checks if a string is contained within a list and ignores case sensitivity\u001b[39;00m\n\u001b[32m   1003\u001b[39m \u001b[33;03m    \"\"\"\u001b[39;00m\n\u001b[32m-> \u001b[39m\u001b[32m1004\u001b[39m     my_string = \u001b[43mvalue\u001b[49m\u001b[43m.\u001b[49m\u001b[43mlower\u001b[49m()\n\u001b[32m   1005\u001b[39m     my_list = [item.lower() \u001b[38;5;28;01mfor\u001b[39;00m item \u001b[38;5;129;01min\u001b[39;00m lst]\n\u001b[32m   1006\u001b[39m     \u001b[38;5;28;01mreturn\u001b[39;00m my_string \u001b[38;5;129;01min\u001b[39;00m my_list\n",
      "\u001b[31mAttributeError\u001b[39m: 'int' object has no attribute 'lower'"
     ]
    }
   ],
   "source": [
    "lockin.configure_display_outputs(channel='1', display_expand_what='r', display_output_expand='10', display_output_offset=\"5\")"
   ]
  },
  {
   "cell_type": "code",
   "execution_count": 11,
   "metadata": {},
   "outputs": [
    {
     "data": {
      "text/plain": [
       "[0.0, 0.0]"
      ]
     },
     "execution_count": 11,
     "metadata": {},
     "output_type": "execute_result"
    }
   ],
   "source": [
    "lockin.get_X_Y()"
   ]
  },
  {
   "cell_type": "code",
   "execution_count": 12,
   "metadata": {},
   "outputs": [
    {
     "data": {
      "text/plain": [
       "[0.0, 0.0]"
      ]
     },
     "execution_count": 12,
     "metadata": {},
     "output_type": "execute_result"
    }
   ],
   "source": [
    "lockin.get_R_theta()"
   ]
  },
  {
   "cell_type": "code",
   "execution_count": null,
   "metadata": {},
   "outputs": [],
   "source": []
  }
 ],
 "metadata": {
  "kernelspec": {
   "display_name": "Python 3",
   "language": "python",
   "name": "python3"
  },
  "language_info": {
   "codemirror_mode": {
    "name": "ipython",
    "version": 3
   },
   "file_extension": ".py",
   "mimetype": "text/x-python",
   "name": "python",
   "nbconvert_exporter": "python",
   "pygments_lexer": "ipython3",
   "version": "3.13.2"
  }
 },
 "nbformat": 4,
 "nbformat_minor": 2
}
