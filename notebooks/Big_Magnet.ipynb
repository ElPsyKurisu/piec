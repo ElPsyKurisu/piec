{
 "cells": [
  {
   "cell_type": "markdown",
   "metadata": {},
   "source": [
    "This program will be an example to showcase how to use the edc522, keithley193a (both non SCPI instruments) as well as the arduino model and showcase how to make a rudimentary program"
   ]
  },
  {
   "cell_type": "code",
   "execution_count": 1,
   "metadata": {},
   "outputs": [],
   "source": [
    "from piec.drivers.utilities import PiecManager\n",
    "from piec.drivers.arduino import Arduino_Stepper\n",
    "from piec.drivers.edc522 import EDC522\n",
    "from piec.drivers.keithley193a import Keithley193a\n",
    "pm = PiecManager()\n"
   ]
  },
  {
   "cell_type": "code",
   "execution_count": 2,
   "metadata": {},
   "outputs": [
    {
     "data": {
      "text/plain": [
       "('ASRL3::INSTR', 'GPIB1::9::INSTR', 'GPIB1::10::INSTR', 'GPIB2::8::INSTR')"
      ]
     },
     "execution_count": 2,
     "metadata": {},
     "output_type": "execute_result"
    }
   ],
   "source": [
    "pm.list_resources()"
   ]
  },
  {
   "cell_type": "code",
   "execution_count": 6,
   "metadata": {},
   "outputs": [
    {
     "name": "stderr",
     "output_type": "stream",
     "text": [
      "c:\\Users\\geofr\\AppData\\Local\\Programs\\Python\\Python313\\Lib\\site-packages\\pyvisa\\ctwrapper\\highlevel.py:226: VisaIOWarning: VI_WARN_NSUP_ATTR_STATE (1073676420): Although the specified state of the attribute is valid, it is not supported by this implementation.\n",
      "  return self.handle_return_value(session, ret_value)  # type: ignore\n"
     ]
    },
    {
     "data": {
      "text/plain": [
       "'Custom Arduino_Stepper Object at ASRL3::INSTR'"
      ]
     },
     "execution_count": 6,
     "metadata": {},
     "output_type": "execute_result"
    }
   ],
   "source": [
    "Stepper = Arduino_Stepper(\"ASRL3::INSTR\")\n",
    "Stepper.idn()"
   ]
  },
  {
   "cell_type": "code",
   "execution_count": 3,
   "metadata": {},
   "outputs": [
    {
     "ename": "VisaIOError",
     "evalue": "VI_ERROR_INTF_NUM_NCONFIG (-1073807195): The interface type is valid but the specified interface number is not configured.",
     "output_type": "error",
     "traceback": [
      "\u001b[31m---------------------------------------------------------------------------\u001b[39m",
      "\u001b[31mVisaIOError\u001b[39m                               Traceback (most recent call last)",
      "\u001b[36mCell\u001b[39m\u001b[36m \u001b[39m\u001b[32mIn[3]\u001b[39m\u001b[32m, line 1\u001b[39m\n\u001b[32m----> \u001b[39m\u001b[32m1\u001b[39m voltage_program = \u001b[43mEDC522\u001b[49m\u001b[43m(\u001b[49m\u001b[33;43m\"\u001b[39;49m\u001b[33;43mGPIB0::9::INSTR\u001b[39;49m\u001b[33;43m\"\u001b[39;49m\u001b[43m)\u001b[49m\n\u001b[32m      2\u001b[39m voltage_program.idn()\n",
      "\u001b[36mFile \u001b[39m\u001b[32mc:\\Users\\geofr\\AppData\\Local\\Programs\\Python\\Python313\\Lib\\site-packages\\piec\\drivers\\instrument.py:15\u001b[39m, in \u001b[36mInstrument.__init__\u001b[39m\u001b[34m(self, address)\u001b[39m\n\u001b[32m     13\u001b[39m \u001b[38;5;28;01mdef\u001b[39;00m\u001b[38;5;250m \u001b[39m\u001b[34m__init__\u001b[39m(\u001b[38;5;28mself\u001b[39m, address):\n\u001b[32m     14\u001b[39m     rm = ResourceManager()\n\u001b[32m---> \u001b[39m\u001b[32m15\u001b[39m     \u001b[38;5;28mself\u001b[39m.instrument = \u001b[43mrm\u001b[49m\u001b[43m.\u001b[49m\u001b[43mopen_resource\u001b[49m\u001b[43m(\u001b[49m\u001b[43maddress\u001b[49m\u001b[43m)\u001b[49m\n",
      "\u001b[36mFile \u001b[39m\u001b[32mc:\\Users\\geofr\\AppData\\Local\\Programs\\Python\\Python313\\Lib\\site-packages\\pyvisa\\highlevel.py:3255\u001b[39m, in \u001b[36mResourceManager.open_resource\u001b[39m\u001b[34m(self, resource_name, access_mode, open_timeout, resource_pyclass, **kwargs)\u001b[39m\n\u001b[32m   3227\u001b[39m \u001b[38;5;250m\u001b[39m\u001b[33;03m\"\"\"Return an instrument for the resource name.\u001b[39;00m\n\u001b[32m   3228\u001b[39m \n\u001b[32m   3229\u001b[39m \u001b[33;03mParameters\u001b[39;00m\n\u001b[32m   (...)\u001b[39m\u001b[32m   3252\u001b[39m \n\u001b[32m   3253\u001b[39m \u001b[33;03m\"\"\"\u001b[39;00m\n\u001b[32m   3254\u001b[39m \u001b[38;5;28;01mif\u001b[39;00m resource_pyclass \u001b[38;5;129;01mis\u001b[39;00m \u001b[38;5;28;01mNone\u001b[39;00m:\n\u001b[32m-> \u001b[39m\u001b[32m3255\u001b[39m     info = \u001b[38;5;28;43mself\u001b[39;49m\u001b[43m.\u001b[49m\u001b[43mresource_info\u001b[49m\u001b[43m(\u001b[49m\u001b[43mresource_name\u001b[49m\u001b[43m,\u001b[49m\u001b[43m \u001b[49m\u001b[43mextended\u001b[49m\u001b[43m=\u001b[49m\u001b[38;5;28;43;01mTrue\u001b[39;49;00m\u001b[43m)\u001b[49m\n\u001b[32m   3257\u001b[39m     \u001b[38;5;28;01mtry\u001b[39;00m:\n\u001b[32m   3258\u001b[39m         \u001b[38;5;66;03m# When using querying extended resource info the resource_class is not\u001b[39;00m\n\u001b[32m   3259\u001b[39m         \u001b[38;5;66;03m# None\u001b[39;00m\n\u001b[32m   3260\u001b[39m         resource_pyclass = \u001b[38;5;28mself\u001b[39m._resource_classes[\n\u001b[32m   3261\u001b[39m             (info.interface_type, info.resource_class)  \u001b[38;5;66;03m# type: ignore\u001b[39;00m\n\u001b[32m   3262\u001b[39m         ]\n",
      "\u001b[36mFile \u001b[39m\u001b[32mc:\\Users\\geofr\\AppData\\Local\\Programs\\Python\\Python313\\Lib\\site-packages\\pyvisa\\highlevel.py:3182\u001b[39m, in \u001b[36mResourceManager.resource_info\u001b[39m\u001b[34m(self, resource_name, extended)\u001b[39m\n\u001b[32m   3170\u001b[39m \u001b[38;5;250m\u001b[39m\u001b[33;03m\"\"\"Get the (extended) information of a particular resource.\u001b[39;00m\n\u001b[32m   3171\u001b[39m \n\u001b[32m   3172\u001b[39m \u001b[33;03mParameters\u001b[39;00m\n\u001b[32m   (...)\u001b[39m\u001b[32m   3178\u001b[39m \n\u001b[32m   3179\u001b[39m \u001b[33;03m\"\"\"\u001b[39;00m\n\u001b[32m   3181\u001b[39m \u001b[38;5;28;01mif\u001b[39;00m extended:\n\u001b[32m-> \u001b[39m\u001b[32m3182\u001b[39m     ret, err = \u001b[38;5;28;43mself\u001b[39;49m\u001b[43m.\u001b[49m\u001b[43mvisalib\u001b[49m\u001b[43m.\u001b[49m\u001b[43mparse_resource_extended\u001b[49m\u001b[43m(\u001b[49m\u001b[38;5;28;43mself\u001b[39;49m\u001b[43m.\u001b[49m\u001b[43msession\u001b[49m\u001b[43m,\u001b[49m\u001b[43m \u001b[49m\u001b[43mresource_name\u001b[49m\u001b[43m)\u001b[49m\n\u001b[32m   3183\u001b[39m \u001b[38;5;28;01melse\u001b[39;00m:\n\u001b[32m   3184\u001b[39m     ret, err = \u001b[38;5;28mself\u001b[39m.visalib.parse_resource(\u001b[38;5;28mself\u001b[39m.session, resource_name)\n",
      "\u001b[36mFile \u001b[39m\u001b[32mc:\\Users\\geofr\\AppData\\Local\\Programs\\Python\\Python313\\Lib\\site-packages\\pyvisa\\ctwrapper\\functions.py:2076\u001b[39m, in \u001b[36mparse_resource_extended\u001b[39m\u001b[34m(library, session, resource_name)\u001b[39m\n\u001b[32m   2072\u001b[39m alias_if_exists = create_string_buffer(constants.VI_FIND_BUFLEN)\n\u001b[32m   2074\u001b[39m \u001b[38;5;66;03m# [ViSession, ViRsrc, ViPUInt16, ViPUInt16, ViAChar, ViAChar, ViAChar]\u001b[39;00m\n\u001b[32m   2075\u001b[39m \u001b[38;5;66;03m# ViRsrc converts from (str, unicode, bytes) to bytes\u001b[39;00m\n\u001b[32m-> \u001b[39m\u001b[32m2076\u001b[39m ret = \u001b[43mlibrary\u001b[49m\u001b[43m.\u001b[49m\u001b[43mviParseRsrcEx\u001b[49m\u001b[43m(\u001b[49m\n\u001b[32m   2077\u001b[39m \u001b[43m    \u001b[49m\u001b[43msession\u001b[49m\u001b[43m,\u001b[49m\n\u001b[32m   2078\u001b[39m \u001b[43m    \u001b[49m\u001b[43mresource_name\u001b[49m\u001b[43m,\u001b[49m\n\u001b[32m   2079\u001b[39m \u001b[43m    \u001b[49m\u001b[43mbyref\u001b[49m\u001b[43m(\u001b[49m\u001b[43minterface_type\u001b[49m\u001b[43m)\u001b[49m\u001b[43m,\u001b[49m\n\u001b[32m   2080\u001b[39m \u001b[43m    \u001b[49m\u001b[43mbyref\u001b[49m\u001b[43m(\u001b[49m\u001b[43minterface_board_number\u001b[49m\u001b[43m)\u001b[49m\u001b[43m,\u001b[49m\n\u001b[32m   2081\u001b[39m \u001b[43m    \u001b[49m\u001b[43mresource_class\u001b[49m\u001b[43m,\u001b[49m\n\u001b[32m   2082\u001b[39m \u001b[43m    \u001b[49m\u001b[43munaliased_expanded_resource_name\u001b[49m\u001b[43m,\u001b[49m\n\u001b[32m   2083\u001b[39m \u001b[43m    \u001b[49m\u001b[43malias_if_exists\u001b[49m\u001b[43m,\u001b[49m\n\u001b[32m   2084\u001b[39m \u001b[43m\u001b[49m\u001b[43m)\u001b[49m\n\u001b[32m   2086\u001b[39m res = [\n\u001b[32m   2087\u001b[39m     buffer_to_text(val)\n\u001b[32m   2088\u001b[39m     \u001b[38;5;28;01mfor\u001b[39;00m val \u001b[38;5;129;01min\u001b[39;00m (resource_class, unaliased_expanded_resource_name, alias_if_exists)\n\u001b[32m   2089\u001b[39m ]\n\u001b[32m   2091\u001b[39m \u001b[38;5;28;01mif\u001b[39;00m res[-\u001b[32m1\u001b[39m] == \u001b[33m\"\u001b[39m\u001b[33m\"\u001b[39m:\n",
      "\u001b[36mFile \u001b[39m\u001b[32mc:\\Users\\geofr\\AppData\\Local\\Programs\\Python\\Python313\\Lib\\site-packages\\pyvisa\\ctwrapper\\highlevel.py:226\u001b[39m, in \u001b[36mIVIVisaLibrary._return_handler\u001b[39m\u001b[34m(self, ret_value, func, arguments)\u001b[39m\n\u001b[32m    223\u001b[39m         \u001b[38;5;66;03m# Set session back to a safe value\u001b[39;00m\n\u001b[32m    224\u001b[39m         session = \u001b[38;5;28;01mNone\u001b[39;00m\n\u001b[32m--> \u001b[39m\u001b[32m226\u001b[39m \u001b[38;5;28;01mreturn\u001b[39;00m \u001b[38;5;28;43mself\u001b[39;49m\u001b[43m.\u001b[49m\u001b[43mhandle_return_value\u001b[49m\u001b[43m(\u001b[49m\u001b[43msession\u001b[49m\u001b[43m,\u001b[49m\u001b[43m \u001b[49m\u001b[43mret_value\u001b[49m\u001b[43m)\u001b[49m\n",
      "\u001b[36mFile \u001b[39m\u001b[32mc:\\Users\\geofr\\AppData\\Local\\Programs\\Python\\Python313\\Lib\\site-packages\\pyvisa\\highlevel.py:251\u001b[39m, in \u001b[36mVisaLibraryBase.handle_return_value\u001b[39m\u001b[34m(self, session, status_code)\u001b[39m\n\u001b[32m    248\u001b[39m     \u001b[38;5;28mself\u001b[39m._last_status_in_session[session] = rv\n\u001b[32m    250\u001b[39m \u001b[38;5;28;01mif\u001b[39;00m rv < \u001b[32m0\u001b[39m:\n\u001b[32m--> \u001b[39m\u001b[32m251\u001b[39m     \u001b[38;5;28;01mraise\u001b[39;00m errors.VisaIOError(rv)\n\u001b[32m    253\u001b[39m \u001b[38;5;28;01mif\u001b[39;00m rv \u001b[38;5;129;01min\u001b[39;00m \u001b[38;5;28mself\u001b[39m.issue_warning_on:\n\u001b[32m    254\u001b[39m     \u001b[38;5;28;01mif\u001b[39;00m session \u001b[38;5;129;01mand\u001b[39;00m rv \u001b[38;5;129;01mnot\u001b[39;00m \u001b[38;5;129;01min\u001b[39;00m \u001b[38;5;28mself\u001b[39m._ignore_warning_in_session[session]:\n",
      "\u001b[31mVisaIOError\u001b[39m: VI_ERROR_INTF_NUM_NCONFIG (-1073807195): The interface type is valid but the specified interface number is not configured."
     ]
    }
   ],
   "source": [
    "voltage_program = EDC522(\"GPIB0::9::INSTR\")\n",
    "voltage_program.idn()"
   ]
  },
  {
   "cell_type": "code",
   "execution_count": null,
   "metadata": {},
   "outputs": [
    {
     "ename": "TypeError",
     "evalue": "'>' not supported between instances of 'str' and 'int'",
     "output_type": "error",
     "traceback": [
      "\u001b[1;31m---------------------------------------------------------------------------\u001b[0m",
      "\u001b[1;31mTypeError\u001b[0m                                 Traceback (most recent call last)",
      "Cell \u001b[1;32mIn[7], line 1\u001b[0m\n\u001b[1;32m----> 1\u001b[0m \u001b[43mvoltage_program\u001b[49m\u001b[38;5;241;43m.\u001b[39;49m\u001b[43mset_output\u001b[49m\u001b[43m(\u001b[49m\u001b[38;5;124;43m\"\u001b[39;49m\u001b[38;5;124;43m69\u001b[39;49m\u001b[38;5;124;43m\"\u001b[39;49m\u001b[43m,\u001b[49m\u001b[43m \u001b[49m\u001b[43mmode\u001b[49m\u001b[38;5;241;43m=\u001b[39;49m\u001b[38;5;124;43m'\u001b[39;49m\u001b[38;5;124;43mcrowbar\u001b[39;49m\u001b[38;5;124;43m'\u001b[39;49m\u001b[43m)\u001b[49m\n",
      "File \u001b[1;32mc:\\Users\\geofr\\AppData\\Local\\Programs\\Python\\Python313\\Lib\\site-packages\\piec\\drivers\\edc522\\core.py:53\u001b[0m, in \u001b[0;36mEDC522.set_output\u001b[1;34m(self, value, mode, opt)\u001b[0m\n\u001b[0;32m     50\u001b[0m     \u001b[38;5;28mself\u001b[39m\u001b[38;5;241m.\u001b[39minstrument\u001b[38;5;241m.\u001b[39mwrite(\u001b[38;5;124m\"\u001b[39m\u001b[38;5;124m-0000000\u001b[39m\u001b[38;5;124m\"\u001b[39m) \u001b[38;5;66;03m#negative negative mode\u001b[39;00m\n\u001b[0;32m     51\u001b[0m     \u001b[38;5;28;01mreturn\u001b[39;00m\n\u001b[1;32m---> 53\u001b[0m polarity \u001b[38;5;241m=\u001b[39m \u001b[38;5;124m\"\u001b[39m\u001b[38;5;124m+\u001b[39m\u001b[38;5;124m\"\u001b[39m \u001b[38;5;28;01mif\u001b[39;00m \u001b[43mvalue\u001b[49m\u001b[43m \u001b[49m\u001b[38;5;241;43m>\u001b[39;49m\u001b[43m \u001b[49m\u001b[38;5;241;43m0\u001b[39;49m \u001b[38;5;28;01melse\u001b[39;00m \u001b[38;5;124m\"\u001b[39m\u001b[38;5;124m-\u001b[39m\u001b[38;5;124m\"\u001b[39m\n\u001b[0;32m     54\u001b[0m abs_value \u001b[38;5;241m=\u001b[39m \u001b[38;5;28mabs\u001b[39m(value)\n\u001b[0;32m     56\u001b[0m \u001b[38;5;28;01mif\u001b[39;00m mode \u001b[38;5;241m==\u001b[39m \u001b[38;5;124m\"\u001b[39m\u001b[38;5;124mvoltage\u001b[39m\u001b[38;5;124m\"\u001b[39m:\n",
      "\u001b[1;31mTypeError\u001b[0m: '>' not supported between instances of 'str' and 'int'"
     ]
    }
   ],
   "source": [
    "voltage_program.set_output()"
   ]
  },
  {
   "cell_type": "code",
   "execution_count": 16,
   "metadata": {},
   "outputs": [
    {
     "data": {
      "text/plain": [
       "10"
      ]
     },
     "execution_count": 16,
     "metadata": {},
     "output_type": "execute_result"
    }
   ],
   "source": [
    "voltage_program.instrument.write(\"00000000\")"
   ]
  },
  {
   "cell_type": "code",
   "execution_count": 9,
   "metadata": {},
   "outputs": [],
   "source": [
    "voltage_program.set_output(1)"
   ]
  },
  {
   "cell_type": "code",
   "execution_count": 3,
   "metadata": {},
   "outputs": [
    {
     "data": {
      "text/plain": [
       "'NDCV-0000.003E+0\\r\\n'"
      ]
     },
     "execution_count": 3,
     "metadata": {},
     "output_type": "execute_result"
    }
   ],
   "source": [
    "voltage_out = Keithley193a(\"GPIB0::10::INSTR\")\n",
    "voltage_out.idn()   # This will print the IDN of the instrument"
   ]
  },
  {
   "cell_type": "code",
   "execution_count": 7,
   "metadata": {},
   "outputs": [
    {
     "data": {
      "text/plain": [
       "'-0000.005E+0'"
      ]
     },
     "execution_count": 7,
     "metadata": {},
     "output_type": "execute_result"
    }
   ],
   "source": [
    "voltage_out.read_voltage()"
   ]
  },
  {
   "cell_type": "code",
   "execution_count": 9,
   "metadata": {},
   "outputs": [
    {
     "data": {
      "text/plain": [
       "40"
      ]
     },
     "execution_count": 9,
     "metadata": {},
     "output_type": "execute_result"
    }
   ],
   "source": [
    "Stepper.step(20,1)"
   ]
  }
 ],
 "metadata": {
  "kernelspec": {
   "display_name": "Python 3",
   "language": "python",
   "name": "python3"
  },
  "language_info": {
   "codemirror_mode": {
    "name": "ipython",
    "version": 3
   },
   "file_extension": ".py",
   "mimetype": "text/x-python",
   "name": "python",
   "nbconvert_exporter": "python",
   "pygments_lexer": "ipython3",
   "version": "3.13.2"
  }
 },
 "nbformat": 4,
 "nbformat_minor": 2
}
