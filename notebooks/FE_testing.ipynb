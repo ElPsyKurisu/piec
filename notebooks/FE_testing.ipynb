{
 "cells": [
  {
   "cell_type": "markdown",
   "metadata": {},
   "source": [
    "# Caretta Lab Ferroelectric Testing Notebook"
   ]
  },
  {
   "cell_type": "markdown",
   "metadata": {},
   "source": [
    "Written by Alexander Qualls (alexander_qualls@brown.edu) on 12/18/2024"
   ]
  },
  {
   "cell_type": "markdown",
   "metadata": {},
   "source": [
    "This python notebook provides an interrective interface with the ferroelectic (FE) testing functionality avaliable in the open source Python Integrated Experiment Control (piec) package. Currently implemented tests are triangle-wave hysteresis (hyst) and a three-pulse, PUND type measurment (3pp). Code documentation and setupt details can be found at https://piec.readthedocs.io."
   ]
  },
  {
   "cell_type": "markdown",
   "metadata": {},
   "source": [
    "*COPY THIS NOTEBOOK AND RUN IN A LOCAL DIRECTORY TO PREVENT IT FROM BEING OVERWRITTEN BY GITHUB*"
   ]
  },
  {
   "cell_type": "markdown",
   "metadata": {},
   "source": [
    "### Imports"
   ]
  },
  {
   "cell_type": "code",
   "execution_count": 1,
   "metadata": {},
   "outputs": [],
   "source": [
    "from piec.drivers.keysight81150a import Keysight81150a\n",
    "from piec.drivers.keysightdsox3024a import Dsox3024a\n",
    "from piec.measurement_waveforms.discrete_waveform import HysteresisLoop, ThreePulsePund\n",
    "from piec.analysis.utilities import standard_csv_to_metadata_and_data\n",
    "\n",
    "import matplotlib.pyplot as plt\n",
    "import pandas as pd\n",
    "import numpy as np\n",
    "import os"
   ]
  },
  {
   "cell_type": "markdown",
   "metadata": {},
   "source": [
    "### Instrument Setup"
   ]
  },
  {
   "cell_type": "markdown",
   "metadata": {},
   "source": [
    "Every FE testing experiment needs an Arbitrary Waveform Generator (awg) and an Oscilloscope (osc) intstrument to apply voltage waveforms and capture voltage response, respectively. In piec these are each represented by a class object. These class objects need to be initialized, making sure the relevant system information is passed (ie GPIB adress). Also make sure relevant supporting software is installed to facilitate instrument interfacing. Most bases are covered by this National Instruments driver https://www.ni.com/en/support/downloads/drivers/download.ni-488-2.html#544048."
   ]
  },
  {
   "cell_type": "code",
   "execution_count": 2,
   "metadata": {},
   "outputs": [
    {
     "name": "stdout",
     "output_type": "stream",
     "text": [
      "INITIALIZING VIRTUAL RESOURCE MANAGER, VISA NOT CONNECTED\n",
      "INITIALIZING VIRTUAL RESOURCE MANAGER, VISA NOT CONNECTED\n",
      "AWG:  VirtualInstrument,Model1234,Serial123456,1.0\n",
      "OSC:  VirtualInstrument,Model1234,Serial123456,1.0\n"
     ]
    }
   ],
   "source": [
    "awg = Keysight81150a('VIRTUAL') # 'GPIB0::8::INSTR' for lab awg, 'VIRTUAL' to run in virtual mode\n",
    "osc = Dsox3024a('VIRTUAL') # 'GPIB0::7::INSTR' for lab scope, 'VIRTUAL' to run in virtual mode\n",
    "print('AWG: ', awg.idn()) # make sure the selected instruments are what they should be\n",
    "print('OSC: ', osc.idn())"
   ]
  },
  {
   "cell_type": "markdown",
   "metadata": {},
   "source": [
    "### Hysteresis"
   ]
  },
  {
   "cell_type": "markdown",
   "metadata": {},
   "source": [
    "The hyst measurment will apply a simple triangle wave to the sample. The voltage response can be integrated to get the classic polarization hysteresis loop. This response will include the hysteretic FE response, but also the linear dielectric (DE) response and the constant leakage/resistive response."
   ]
  },
  {
   "cell_type": "markdown",
   "metadata": {},
   "source": [
    "As a general note aboout these measurements: the captured waveform will often be OFFSET IN TIME from the trigger. As such, we need to determine this time offset (approximately the cable length difference between the measurment cable and the trigger cable / the speed of light) an correct for it to accurately integrate the signal. This is handled automatically by default but BE CAREFUL becasue this automatic shift may FAIL, especially for leaky samples, and may give you nonsensical/misleading results."
   ]
  },
  {
   "cell_type": "code",
   "execution_count": 3,
   "metadata": {},
   "outputs": [],
   "source": [
    "### VARIABLE DEFINITIONS ###\n",
    "\n",
    "path = r\"\\\\files22.brown.edu\\Research\\ENG_Caretta_Shared\\Group\\probe_station\\mr0212test\" # path to save data, make sure directory exists and you have permissions\n",
    "\n",
    "voltage = 1.0 # voltage amplitude of the applied triangle wave (V)\n",
    "frequency = 1.0e6 # frequency of the applied triangle wave (Hz)\n",
    "voltage_scale = 0.01 # scale of one y division on the oscilloscope (V), needs to be small enough to be sensitive to the response, but not so small that the signal clips\n",
    "n_cycles = 2 # how many full voltage cycles to apply, it is good to have at least two to check that successive loops are giving the same response\n",
    "\n",
    "area = 3.14*(5e-6)**2 # area of the measured capacitor (m^2), used to convert from charge to polarization\n",
    "\n",
    "time_offset = 1.5e-7 # time between the trigger and the start of the voltage response (s), not used if automatic_timeshift=True\n",
    "\n",
    "show_plots = True\n",
    "save_plots = True\n",
    "automatic_timeshift = True"
   ]
  },
  {
   "cell_type": "code",
   "execution_count": 4,
   "metadata": {},
   "outputs": [
    {
     "ename": "TypeError",
     "evalue": "HysteresisLoop.__init__() got an unexpected keyword argument 'show_plots'",
     "output_type": "error",
     "traceback": [
      "\u001b[1;31m---------------------------------------------------------------------------\u001b[0m",
      "\u001b[1;31mTypeError\u001b[0m                                 Traceback (most recent call last)",
      "Cell \u001b[1;32mIn[4], line 3\u001b[0m\n\u001b[0;32m      1\u001b[0m \u001b[38;5;66;03m### RUN ###\u001b[39;00m\n\u001b[1;32m----> 3\u001b[0m experiment \u001b[38;5;241m=\u001b[39m HysteresisLoop(awg, osc, \u001b[38;5;66;03m# initialize the experiment object with specified attributes\u001b[39;00m\n\u001b[0;32m      4\u001b[0m                             amplitude\u001b[38;5;241m=\u001b[39mvoltage, frequency\u001b[38;5;241m=\u001b[39mfrequency,\n\u001b[0;32m      5\u001b[0m                             v_div\u001b[38;5;241m=\u001b[39mvoltage_scale, n_cycles\u001b[38;5;241m=\u001b[39mn_cycles,\n\u001b[0;32m      6\u001b[0m                             area\u001b[38;5;241m=\u001b[39marea, time_offset\u001b[38;5;241m=\u001b[39mtime_offset,\n\u001b[0;32m      7\u001b[0m                             show_plots\u001b[38;5;241m=\u001b[39mshow_plots, save_plots\u001b[38;5;241m=\u001b[39msave_plots,\n\u001b[0;32m      8\u001b[0m                             save_path\u001b[38;5;241m=\u001b[39mpath, auto_timeshift\u001b[38;5;241m=\u001b[39mautomatic_timeshift)\n\u001b[0;32m     10\u001b[0m \u001b[38;5;66;03m# run the experiment, this will save raw data in the specified directory, update the raw data with analysis, and generate plots\u001b[39;00m\n\u001b[0;32m     11\u001b[0m experiment\u001b[38;5;241m.\u001b[39mrun_experiment()\n",
      "\u001b[1;31mTypeError\u001b[0m: HysteresisLoop.__init__() got an unexpected keyword argument 'show_plots'"
     ]
    }
   ],
   "source": [
    "### RUN ###\n",
    "\n",
    "experiment = HysteresisLoop(awg, osc, # initialize the experiment object with specified attributes\n",
    "                            amplitude=voltage, frequency=frequency,\n",
    "                            v_div=voltage_scale, n_cycles=n_cycles,\n",
    "                            area=area, time_offset=time_offset,\n",
    "                            show_plots=show_plots, save_plots=save_plots,\n",
    "                            save_path=path, auto_timeshift=automatic_timeshift)\n",
    "\n",
    "# run the experiment, this will save raw data in the specified directory, update the raw data with analysis, and generate plots\n",
    "experiment.run_experiment()"
   ]
  },
  {
   "cell_type": "code",
   "execution_count": 12,
   "metadata": {},
   "outputs": [
    {
     "data": {
      "text/html": [
       "<div>\n",
       "<style scoped>\n",
       "    .dataframe tbody tr th:only-of-type {\n",
       "        vertical-align: middle;\n",
       "    }\n",
       "\n",
       "    .dataframe tbody tr th {\n",
       "        vertical-align: top;\n",
       "    }\n",
       "\n",
       "    .dataframe thead th {\n",
       "        text-align: right;\n",
       "    }\n",
       "</style>\n",
       "<table border=\"1\" class=\"dataframe\">\n",
       "  <thead>\n",
       "    <tr style=\"text-align: right;\">\n",
       "      <th></th>\n",
       "      <th>time (s)</th>\n",
       "      <th>voltage (V)</th>\n",
       "      <th>current (A)</th>\n",
       "      <th>polarization (uC/cm^2)</th>\n",
       "      <th>applied voltage (V)</th>\n",
       "    </tr>\n",
       "  </thead>\n",
       "  <tbody>\n",
       "    <tr>\n",
       "      <th>0</th>\n",
       "      <td>0.000000e+00</td>\n",
       "      <td>-0.000402</td>\n",
       "      <td>-6.657490e+06</td>\n",
       "      <td>0.000000</td>\n",
       "      <td>0.0</td>\n",
       "    </tr>\n",
       "    <tr>\n",
       "      <th>1</th>\n",
       "      <td>1.000000e-09</td>\n",
       "      <td>0.000000</td>\n",
       "      <td>3.584803e+06</td>\n",
       "      <td>-0.001536</td>\n",
       "      <td>0.0</td>\n",
       "    </tr>\n",
       "    <tr>\n",
       "      <th>2</th>\n",
       "      <td>2.000000e-09</td>\n",
       "      <td>-0.000402</td>\n",
       "      <td>-6.657490e+06</td>\n",
       "      <td>-0.003073</td>\n",
       "      <td>0.0</td>\n",
       "    </tr>\n",
       "    <tr>\n",
       "      <th>3</th>\n",
       "      <td>4.000000e-09</td>\n",
       "      <td>-0.000402</td>\n",
       "      <td>-6.657490e+06</td>\n",
       "      <td>-0.016388</td>\n",
       "      <td>0.0</td>\n",
       "    </tr>\n",
       "    <tr>\n",
       "      <th>4</th>\n",
       "      <td>5.000000e-09</td>\n",
       "      <td>0.000000</td>\n",
       "      <td>3.584803e+06</td>\n",
       "      <td>-0.017924</td>\n",
       "      <td>0.0</td>\n",
       "    </tr>\n",
       "  </tbody>\n",
       "</table>\n",
       "</div>"
      ],
      "text/plain": [
       "       time (s)  voltage (V)   current (A)  polarization (uC/cm^2)  \\\n",
       "0  0.000000e+00    -0.000402 -6.657490e+06                0.000000   \n",
       "1  1.000000e-09     0.000000  3.584803e+06               -0.001536   \n",
       "2  2.000000e-09    -0.000402 -6.657490e+06               -0.003073   \n",
       "3  4.000000e-09    -0.000402 -6.657490e+06               -0.016388   \n",
       "4  5.000000e-09     0.000000  3.584803e+06               -0.017924   \n",
       "\n",
       "   applied voltage (V)  \n",
       "0                  0.0  \n",
       "1                  0.0  \n",
       "2                  0.0  \n",
       "3                  0.0  \n",
       "4                  0.0  "
      ]
     },
     "execution_count": 12,
     "metadata": {},
     "output_type": "execute_result"
    }
   ],
   "source": [
    "# This cell retrieves the data you just acquired and gives you a dict containing the metadata and a dataframe containing the analyzed response\n",
    "# Conduct further analysis to your heart's content...\n",
    "hyst_metadata, hyst_df = standard_csv_to_metadata_and_data(experiment.filename)\n",
    "hyst_df.head()"
   ]
  },
  {
   "cell_type": "markdown",
   "metadata": {},
   "source": [
    "### Three-Pulse PUND"
   ]
  },
  {
   "cell_type": "markdown",
   "metadata": {},
   "source": [
    "The 3pp measurment will apply a negative 'reset' pulse to initialize the polarization state of the sample, followed by two identical positive pulses to probe the FE response. The first 'P pulse' will induce an FE, DE, and leakage response similarly to the hyst experiment. The second 'U pulse' however will (nominally) induce an identical DE and leakage response, but no FE response becasue of the FE's hysteretic quality. The response from the second pulse can be subtracted from the first to get the pure remnant FE response. We perform integration and area correction to get a time vs polarization curve, the slope and max value which will be sensitive to the voltage of the P and U pulses."
   ]
  },
  {
   "cell_type": "markdown",
   "metadata": {},
   "source": [
    "Time offset correction is still relevant here but the automatic detection is much more relizable becasue of the sharp response peaks that are characteristic of pulsed measurments."
   ]
  },
  {
   "cell_type": "code",
   "execution_count": 13,
   "metadata": {},
   "outputs": [],
   "source": [
    "### VARIABLE DEFINITIONS ###\n",
    "\n",
    "path = r\"\\\\files22.brown.edu\\Research\\ENG_Caretta_Shared\\Group\\probe_station\\mr0212test\" # path to save data, make sure directory exists and you have permissions\n",
    "\n",
    "reset_voltage = 2.0 # voltage amplitude of the negative reset pulse (V), this should be large enough to saturate the FE response\n",
    "reset_pulsewidth = 1.0e-7 # width of the reset pulse (s)\n",
    "reset_pulsedelay = 1.0e-7 # delay between reset and measurment pulses (s)\n",
    "\n",
    "measurement_voltage = 2.0 # voltage amplitude of the measurement pulses (V)\n",
    "measurement_pulsewidth = 1.0e-7 # width of the measurement pulse (s)\n",
    "measurement_pulsedelay = 1.0e-7 # delay between the two measurement pulses (s)\n",
    "\n",
    "voltage_scale = 0.01 # scale of one y division on the oscilloscope (V), needs to be small enough to be sensitive to the response, but not so small that the signal clips\n",
    "\n",
    "area = 3.14*(5e-6)**2 # area of the measured capacitor (m^2), used to convert from charge to polarization\n",
    "\n",
    "time_offset = 1.5e-7 # time between the trigger and the start of the voltage response (s), not used if automatic_timeshift=True\n",
    "\n",
    "show_plots = True\n",
    "save_plots = True\n",
    "automatic_timeshift = True"
   ]
  },
  {
   "cell_type": "code",
   "execution_count": 14,
   "metadata": {},
   "outputs": [
    {
     "name": "stdout",
     "output_type": "stream",
     "text": [
      "Estimated Peak-to-Peak Ratio of targetted value is 100.0%\n",
      "AWG configured for a PUND pulse.\n",
      "Capturing waveform of type 3PP for 6e-07 seconds...\n",
      "Waveform captured.\n",
      "Waveform data saved to \\\\files22.brown.edu\\Research\\ENG_Caretta_Shared\\Group\\probe_station\\mr0212\\virtualtest_pund.csv\n"
     ]
    },
    {
     "data": {
      "image/png": "[encoded data removed]",
      "text/plain": [
       "<Figure size 640x480 with 1 Axes>"
      ]
     },
     "metadata": {},
     "output_type": "display_data"
    },
    {
     "data": {
      "image/png": "[encoded data removed]",
      "text/plain": [
       "<Figure size 640x480 with 2 Axes>"
      ]
     },
     "metadata": {},
     "output_type": "display_data"
    }
   ],
   "source": [
    "### RUN ###\n",
    "\n",
    "experiment = ThreePulsePund(awg, osc, # initialize the experiment object with specified attributes\n",
    "                            reset_amp=reset_voltage, reset_delay=reset_pulsedelay, reset_width=reset_pulsewidth,\n",
    "                            p_u_amp=measurement_voltage, p_u_delay=measurement_pulsedelay, p_u_width=measurement_pulsewidth,\n",
    "                            v_div=voltage_scale, area=area,\n",
    "                            show_plots=show_plots, save_plots=save_plots,\n",
    "                            save_path=path, auto_timeshift=automatic_timeshift)\n",
    "\n",
    "# run the experiment, this will save raw data in the specified directory, update the raw data with analysis, and generate plots\n",
    "experiment.run_experiment()"
   ]
  },
  {
   "cell_type": "code",
   "execution_count": 15,
   "metadata": {},
   "outputs": [
    {
     "data": {
      "text/html": [
       "<div>\n",
       "<style scoped>\n",
       "    .dataframe tbody tr th:only-of-type {\n",
       "        vertical-align: middle;\n",
       "    }\n",
       "\n",
       "    .dataframe tbody tr th {\n",
       "        vertical-align: top;\n",
       "    }\n",
       "\n",
       "    .dataframe thead th {\n",
       "        text-align: right;\n",
       "    }\n",
       "</style>\n",
       "<table border=\"1\" class=\"dataframe\">\n",
       "  <thead>\n",
       "    <tr style=\"text-align: right;\">\n",
       "      <th></th>\n",
       "      <th>time (s)</th>\n",
       "      <th>voltage (V)</th>\n",
       "      <th>current (A)</th>\n",
       "      <th>polarization (uC/cm^2)</th>\n",
       "      <th>P^ (uC/cm^2)</th>\n",
       "      <th>P* (uC/cm^2)</th>\n",
       "      <th>P^r (uC/cm^2)</th>\n",
       "      <th>P*r (uC/cm^2)</th>\n",
       "      <th>dP (uC/cm^2)</th>\n",
       "      <th>applied voltage (V)</th>\n",
       "    </tr>\n",
       "  </thead>\n",
       "  <tbody>\n",
       "    <tr>\n",
       "      <th>0</th>\n",
       "      <td>0.000000e+00</td>\n",
       "      <td>-0.000402</td>\n",
       "      <td>-1.024229e+07</td>\n",
       "      <td>0.000000</td>\n",
       "      <td>0.000000</td>\n",
       "      <td>0.000000</td>\n",
       "      <td>0.000000</td>\n",
       "      <td>0.000000</td>\n",
       "      <td>0.000000</td>\n",
       "      <td>0.0</td>\n",
       "    </tr>\n",
       "    <tr>\n",
       "      <th>1</th>\n",
       "      <td>1.000000e-09</td>\n",
       "      <td>0.000000</td>\n",
       "      <td>0.000000e+00</td>\n",
       "      <td>-0.005121</td>\n",
       "      <td>-0.348238</td>\n",
       "      <td>0.189482</td>\n",
       "      <td>0.092181</td>\n",
       "      <td>-0.020485</td>\n",
       "      <td>-0.537720</td>\n",
       "      <td>0.0</td>\n",
       "    </tr>\n",
       "    <tr>\n",
       "      <th>2</th>\n",
       "      <td>2.000000e-09</td>\n",
       "      <td>-0.000402</td>\n",
       "      <td>-1.024229e+07</td>\n",
       "      <td>-0.010242</td>\n",
       "      <td>-0.686234</td>\n",
       "      <td>0.389207</td>\n",
       "      <td>0.184361</td>\n",
       "      <td>-0.066575</td>\n",
       "      <td>-1.075441</td>\n",
       "      <td>0.0</td>\n",
       "    </tr>\n",
       "    <tr>\n",
       "      <th>3</th>\n",
       "      <td>4.000000e-09</td>\n",
       "      <td>-0.000402</td>\n",
       "      <td>-1.024229e+07</td>\n",
       "      <td>-0.030727</td>\n",
       "      <td>-1.013987</td>\n",
       "      <td>0.599174</td>\n",
       "      <td>0.276542</td>\n",
       "      <td>-0.128029</td>\n",
       "      <td>-1.613161</td>\n",
       "      <td>0.0</td>\n",
       "    </tr>\n",
       "    <tr>\n",
       "      <th>4</th>\n",
       "      <td>5.000000e-09</td>\n",
       "      <td>0.000000</td>\n",
       "      <td>0.000000e+00</td>\n",
       "      <td>-0.035848</td>\n",
       "      <td>-1.628525</td>\n",
       "      <td>1.039593</td>\n",
       "      <td>0.450661</td>\n",
       "      <td>-0.250936</td>\n",
       "      <td>-2.668117</td>\n",
       "      <td>0.0</td>\n",
       "    </tr>\n",
       "  </tbody>\n",
       "</table>\n",
       "</div>"
      ],
      "text/plain": [
       "       time (s)  voltage (V)   current (A)  polarization (uC/cm^2)  \\\n",
       "0  0.000000e+00    -0.000402 -1.024229e+07                0.000000   \n",
       "1  1.000000e-09     0.000000  0.000000e+00               -0.005121   \n",
       "2  2.000000e-09    -0.000402 -1.024229e+07               -0.010242   \n",
       "3  4.000000e-09    -0.000402 -1.024229e+07               -0.030727   \n",
       "4  5.000000e-09     0.000000  0.000000e+00               -0.035848   \n",
       "\n",
       "   P^ (uC/cm^2)  P* (uC/cm^2)  P^r (uC/cm^2)  P*r (uC/cm^2)  dP (uC/cm^2)  \\\n",
       "0      0.000000      0.000000       0.000000       0.000000      0.000000   \n",
       "1     -0.348238      0.189482       0.092181      -0.020485     -0.537720   \n",
       "2     -0.686234      0.389207       0.184361      -0.066575     -1.075441   \n",
       "3     -1.013987      0.599174       0.276542      -0.128029     -1.613161   \n",
       "4     -1.628525      1.039593       0.450661      -0.250936     -2.668117   \n",
       "\n",
       "   applied voltage (V)  \n",
       "0                  0.0  \n",
       "1                  0.0  \n",
       "2                  0.0  \n",
       "3                  0.0  \n",
       "4                  0.0  "
      ]
     },
     "execution_count": 15,
     "metadata": {},
     "output_type": "execute_result"
    }
   ],
   "source": [
    "# This cell retrieves the data you just acquired and gives you a dict containing the metadata and a dataframe containing the analyzed response\n",
    "# Conduct further analysis to your heart's content...\n",
    "pund_metadata, pund_df = standard_csv_to_metadata_and_data(experiment.filename)\n",
    "pund_df.head()"
   ]
  },
  {
   "cell_type": "markdown",
   "metadata": {},
   "source": [
    "### Experiment Example: 'Pulsed Hysteresis'"
   ]
  },
  {
   "cell_type": "markdown",
   "metadata": {},
   "source": [
    "The basics have been covered, the rest is up to you! Now that you have these experiment objects you can go crazy making custom routines and analysis... We provide as an example a classic voltage dependant polarization experiment that performs many 3pp pulses at different voltages to extract the pure FE response as a function of voltage. This is easy to do in the piec framework: we just stick the 3pp experiment object in a for loop, update the relevant attributes, and run."
   ]
  },
  {
   "cell_type": "code",
   "execution_count": 20,
   "metadata": {},
   "outputs": [],
   "source": [
    "### VARIABLE DEFINITIONS ###\n",
    "\n",
    "directory = r\"\\\\files22.brown.edu\\Research\\ENG_Caretta_Shared\\Group\\probe_station\\sz10nmHZO\" # path to save data, make sure directory exists and you have permissions\n",
    "\n",
    "measurement_voltage_start = 0.0 # lowest measurement pulse amplitude to measure (V)\n",
    "measurement_voltage_stop = 2.0 # highest measurement pulse amplitude to measure (V)\n",
    "measurement_voltage_step = 0.2 # difference between successive 3pp measurement pulses (V)\n",
    "\n",
    "measurement_pulsewidth = 1.0e-7 # width of the measurement pulse (s)\n",
    "measurement_pulsedelay = 1.0e-7 # delay between the two measurement pulses (s)\n",
    "\n",
    "reset_voltage = 2.0 # voltage amplitude of the negative reset pulse (V), this should be large enough to saturate the FE response\n",
    "reset_pulsewidth = 1.0e-7 # width of the reset pulse (s)\n",
    "reset_pulsedelay = 1.0e-7 # delay between reset and measurment pulses (s)\n",
    "\n",
    "voltage_scale = 0.01 # scale of one y division on the oscilloscope (V), needs to be small enough to be sensitive to the response, but not so small that the signal clips\n",
    "\n",
    "area = 3.14*(5e-6)**2 # area of the measured capacitor (m^2), used to convert from charge to polarization\n",
    "\n",
    "time_offset = 1.5e-7 # time between the trigger and the start of the voltage response (s), not used if automatic_timeshift=True\n",
    "\n",
    "show_plots = False\n",
    "save_plots = True\n",
    "automatic_timeshift = True"
   ]
  },
  {
   "cell_type": "code",
   "execution_count": 21,
   "metadata": {},
   "outputs": [
    {
     "name": "stderr",
     "output_type": "stream",
     "text": [
      "C:\\Users\\adqua\\AppData\\Roaming\\Python\\Python312\\site-packages\\piec\\drivers\\scpi_instrument.py:806: RuntimeWarning: divide by zero encountered in scalar divide\n",
      "  scale_factor = max_inst/max_abs\n",
      "C:\\Users\\adqua\\AppData\\Roaming\\Python\\Python312\\site-packages\\piec\\drivers\\scpi_instrument.py:804: RuntimeWarning: divide by zero encountered in scalar divide\n",
      "  scale_factor = 8191/max_abs #will not preserve scaling when rounding to ints\n",
      "C:\\Users\\adqua\\AppData\\Roaming\\Python\\Python312\\site-packages\\piec\\drivers\\scpi_instrument.py:808: RuntimeWarning: invalid value encountered in multiply\n",
      "  scaled_data = data*scale_factor\n",
      "C:\\Users\\adqua\\AppData\\Roaming\\Python\\Python312\\site-packages\\piec\\drivers\\scpi_instrument.py:812: RuntimeWarning: invalid value encountered in cast\n",
      "  return scaled_data.astype(np.int32)\n"
     ]
    },
    {
     "name": "stdout",
     "output_type": "stream",
     "text": [
      "CAN NOT PRESERVE WF OVER HALF OF RESOLUTION IS GONE\n",
      "Estimated Peak-to-Peak Ratio of targetted value is nan%\n",
      "AWG configured for a PUND pulse.\n",
      "Capturing waveform of type 3PP for 6e-07 seconds...\n",
      "Waveform captured.\n",
      "Waveform data saved to \\\\files22.brown.edu\\Research\\ENG_Caretta_Shared\\Group\\probe_station\\sz10nmHZO1p0_data.csv\n",
      "Estimated Peak-to-Peak Ratio of targetted value is 55.0%\n",
      "AWG configured for a PUND pulse.\n",
      "Capturing waveform of type 3PP for 6e-07 seconds...\n",
      "Waveform captured.\n",
      "Waveform data saved to \\\\files22.brown.edu\\Research\\ENG_Caretta_Shared\\Group\\probe_station\\sz10nmHZO1p0_data.csv\n",
      "Estimated Peak-to-Peak Ratio of targetted value is 60.0%\n",
      "AWG configured for a PUND pulse.\n",
      "Capturing waveform of type 3PP for 6e-07 seconds...\n",
      "Waveform captured.\n",
      "Waveform data saved to \\\\files22.brown.edu\\Research\\ENG_Caretta_Shared\\Group\\probe_station\\sz10nmHZO1p0_data.csv\n",
      "Estimated Peak-to-Peak Ratio of targetted value is 62.4%\n",
      "AWG configured for a PUND pulse.\n",
      "Capturing waveform of type 3PP for 6e-07 seconds...\n",
      "Waveform captured.\n",
      "Waveform data saved to \\\\files22.brown.edu\\Research\\ENG_Caretta_Shared\\Group\\probe_station\\sz10nmHZO1p0_data.csv\n",
      "Estimated Peak-to-Peak Ratio of targetted value is 70.0%\n",
      "AWG configured for a PUND pulse.\n",
      "Capturing waveform of type 3PP for 6e-07 seconds...\n",
      "Waveform captured.\n",
      "Waveform data saved to \\\\files22.brown.edu\\Research\\ENG_Caretta_Shared\\Group\\probe_station\\sz10nmHZO1p0_data.csv\n",
      "Estimated Peak-to-Peak Ratio of targetted value is 75.0%\n",
      "AWG configured for a PUND pulse.\n",
      "Capturing waveform of type 3PP for 6e-07 seconds...\n",
      "Waveform captured.\n",
      "Waveform data saved to \\\\files22.brown.edu\\Research\\ENG_Caretta_Shared\\Group\\probe_station\\sz10nmHZO1p0_data.csv\n",
      "Estimated Peak-to-Peak Ratio of targetted value is 80.0%\n",
      "AWG configured for a PUND pulse.\n",
      "Capturing waveform of type 3PP for 6e-07 seconds...\n",
      "Waveform captured.\n",
      "Waveform data saved to \\\\files22.brown.edu\\Research\\ENG_Caretta_Shared\\Group\\probe_station\\sz10nmHZO1p0_data.csv\n",
      "CAN NOT PRESERVE WF OVER HALF OF RESOLUTION IS GONE\n",
      "Estimated Peak-to-Peak Ratio of targetted value is 85.0%\n",
      "AWG configured for a PUND pulse.\n",
      "Capturing waveform of type 3PP for 6e-07 seconds...\n",
      "Waveform captured.\n",
      "Waveform data saved to \\\\files22.brown.edu\\Research\\ENG_Caretta_Shared\\Group\\probe_station\\sz10nmHZO1p0_data.csv\n",
      "Estimated Peak-to-Peak Ratio of targetted value is 90.0%\n",
      "AWG configured for a PUND pulse.\n",
      "Capturing waveform of type 3PP for 6e-07 seconds...\n",
      "Waveform captured.\n",
      "Waveform data saved to \\\\files22.brown.edu\\Research\\ENG_Caretta_Shared\\Group\\probe_station\\sz10nmHZO1p0_data.csv\n",
      "Estimated Peak-to-Peak Ratio of targetted value is 95.0%\n",
      "AWG configured for a PUND pulse.\n",
      "Capturing waveform of type 3PP for 6e-07 seconds...\n",
      "Waveform captured.\n",
      "Waveform data saved to \\\\files22.brown.edu\\Research\\ENG_Caretta_Shared\\Group\\probe_station\\sz10nmHZO1p0_data.csv\n"
     ]
    }
   ],
   "source": [
    "### RUN ###\n",
    "\n",
    "experiment = ThreePulsePund(awg, osc, # initialize the experiment object with specified attributes\n",
    "                                reset_amp=reset_voltage, reset_delay=reset_pulsedelay, reset_width=reset_pulsewidth,\n",
    "                                p_u_delay=measurement_pulsedelay, p_u_width=measurement_pulsewidth,\n",
    "                                v_div=voltage_scale, area=area, save_dir=directory)\n",
    "\n",
    "for measurement_voltage in np.arange(measurement_voltage_start, measurement_voltage_stop, measurement_voltage_step): # for loop over voltage\n",
    "    experiment.p_u_amp = measurement_voltage # update measument voltage attribute\n",
    "    experiment.run_experiment() # run the experiment, this will save raw+analyzed data+plots in the specified directory"
   ]
  },
  {
   "cell_type": "markdown",
   "metadata": {},
   "source": [
    "Here is some example analysis you could do on such data: plotting polarization vs voltage and fitting to Merz law, making 3D polarization vs time vs voltage plots... I reference some real data here to demonstrate."
   ]
  },
  {
   "cell_type": "code",
   "execution_count": 36,
   "metadata": {},
   "outputs": [],
   "source": [
    "from scipy.optimize import curve_fit\n",
    "\n",
    "def merz(E, u0=1, alpha=1, Ec=1):\n",
    "    return u0*np.exp(-alpha/(E))\n",
    "\n",
    "directory = r'\\\\files22.brown.edu\\Research\\ENG_Caretta_Shared\\Group\\probe_station\\sz10nmHZO'"
   ]
  },
  {
   "cell_type": "code",
   "execution_count": 37,
   "metadata": {},
   "outputs": [
    {
     "name": "stderr",
     "output_type": "stream",
     "text": [
      "<>:23: SyntaxWarning: invalid escape sequence '\\m'\n",
      "<>:23: SyntaxWarning: invalid escape sequence '\\m'\n",
      "C:\\Users\\adqua\\AppData\\Local\\Temp\\ipykernel_29832\\1264105078.py:23: SyntaxWarning: invalid escape sequence '\\m'\n",
      "  ax.set_ylabel('$2P_r (\\mu C/cm^2)$')\n",
      "C:\\Users\\adqua\\AppData\\Local\\Temp\\ipykernel_29832\\1264105078.py:13: OptimizeWarning: Covariance of the parameters could not be estimated\n",
      "  popt, _ = curve_fit(merz, voltages, polarizations,)\n"
     ]
    },
    {
     "data": {
      "image/png": "[encoded data removed]",
      "text/plain": [
       "<Figure size 400x300 with 1 Axes>"
      ]
     },
     "metadata": {},
     "output_type": "display_data"
    }
   ],
   "source": [
    "voltages, polarizations = [], []\n",
    "\n",
    "# loop over choice directory with V scaling 3pp data\n",
    "for file in os.listdir(directory): \n",
    "    if '.csv' in file:\n",
    "        metadata, data = standard_csv_to_metadata_and_data(os.path.join(directory, file)) # read data with helper function\n",
    "        if metadata['type'].values[0] == '3PP': # we can leverage the metadata to filter for just the type of experiments we want\n",
    "            voltage = metadata['p_u_amp'].values[0]\n",
    "            voltages.append(voltage)\n",
    "            polarizations.append(data['dP (uC/cm^2)'].values[50])\n",
    "\n",
    "# fit to some physical models! why not? science!        \n",
    "popt, _ = curve_fit(merz, voltages, polarizations,) \n",
    "\n",
    "x_fit = np.linspace(min(voltages), max(voltages), 100)\n",
    "y_fit = merz(x_fit, *popt)\n",
    "\n",
    "# make pretty plots! The world is your oyster!\n",
    "fig, ax = plt.subplots(figsize=(4,3))\n",
    "ax.plot(voltages, polarizations, 'ko', label='data')\n",
    "ax.plot(x_fit, y_fit, 'r-', label='Merz Law Fit')\n",
    "ax.set_xlabel('$Voltage (V)$')\n",
    "ax.set_ylabel('$2P_r (\\mu C/cm^2)$') \n",
    "ax.legend()\n",
    "ax.set_title(directory.split('\\\\')[-1])\n",
    "plt.show()"
   ]
  },
  {
   "cell_type": "code",
   "execution_count": 46,
   "metadata": {},
   "outputs": [
    {
     "name": "stderr",
     "output_type": "stream",
     "text": [
      "<>:37: SyntaxWarning: invalid escape sequence '\\m'\n",
      "<>:37: SyntaxWarning: invalid escape sequence '\\m'\n",
      "C:\\Users\\adqua\\AppData\\Local\\Temp\\ipykernel_29832\\1509021876.py:37: SyntaxWarning: invalid escape sequence '\\m'\n",
      "  plt.colorbar(contour, label='$2P_r (\\mu C/cm^2)$')\n"
     ]
    },
    {
     "data": {
      "image/png": "[encoded data removed]",
      "text/plain": [
       "<Figure size 400x300 with 2 Axes>"
      ]
     },
     "metadata": {},
     "output_type": "display_data"
    }
   ],
   "source": [
    "voltages = []\n",
    "time_data = []\n",
    "polarization_data = []\n",
    "\n",
    "# Iterate through CSV files in the directory\n",
    "for file in os.listdir(directory):\n",
    "    if '.csv' in file:\n",
    "        metadata, data = standard_csv_to_metadata_and_data(os.path.join(directory, file)) # read data with helper function\n",
    "        if metadata['type'].values[0] == '3PP': # we can leverage the metadata to filter for just the type of experiments we want\n",
    "\n",
    "            voltage = metadata['p_u_amp'].values[0]\n",
    "            time = data['time (s)'].values\n",
    "            polarization = data['dP (uC/cm^2)'].values\n",
    "\n",
    "            voltages.append(voltage)\n",
    "            time_data.append(time)\n",
    "            polarization_data.append(polarization)\n",
    "\n",
    "# Sort data by voltage\n",
    "sorted_indices = np.argsort(voltages)\n",
    "voltages = np.array(voltages)[sorted_indices]\n",
    "time_data = [time_data[i] for i in sorted_indices]\n",
    "polarization_data = [polarization_data[i] for i in sorted_indices]\n",
    "\n",
    "# Create 2D grid for contour plot\n",
    "unique_times = np.unique(np.concatenate(time_data))\n",
    "time_grid, voltage_grid = np.meshgrid(unique_times, voltages)\n",
    "\n",
    "# Interpolate polarization data onto grid\n",
    "polarization_grid = np.zeros_like(time_grid)\n",
    "for i, (time, polarization) in enumerate(zip(time_data, polarization_data)):\n",
    "    polarization_grid[i, :] = np.interp(unique_times, time, polarization)\n",
    "\n",
    "# Plot contour\n",
    "plt.figure(figsize=(4,3))\n",
    "contour = plt.contourf(voltage_grid, time_grid, polarization_grid, levels=50, cmap='viridis')\n",
    "plt.colorbar(contour, label='$2P_r (\\mu C/cm^2)$')\n",
    "plt.xlabel('$Voltage (V)$')\n",
    "plt.ylabel('$Time (s)$')\n",
    "plt.show()\n"
   ]
  }
 ],
 "metadata": {
  "kernelspec": {
   "display_name": "base",
   "language": "python",
   "name": "python3"
  },
  "language_info": {
   "codemirror_mode": {
    "name": "ipython",
    "version": 3
   },
   "file_extension": ".py",
   "mimetype": "text/x-python",
   "name": "python",
   "nbconvert_exporter": "python",
   "pygments_lexer": "ipython3",
   "version": "3.12.4"
  }
 },
 "nbformat": 4,
 "nbformat_minor": 2
}
