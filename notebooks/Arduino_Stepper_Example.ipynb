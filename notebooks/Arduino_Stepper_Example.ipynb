{
 "cells": [
  {
   "cell_type": "markdown",
   "metadata": {},
   "source": [
    "This Notebook is used as an example to show how to move the Motor using the Arduino_Stepper Driver in piec\n",
    "Requires access to piec"
   ]
  },
  {
   "cell_type": "code",
   "execution_count": null,
   "metadata": {},
   "outputs": [],
   "source": [
    "from piec.drivers.arduino import Arduino_Stepper #relevant driver\n",
    "from piec.drivers.utilities import PiecManager #used to identify equipment"
   ]
  },
  {
   "cell_type": "code",
   "execution_count": null,
   "metadata": {},
   "outputs": [
    {
     "data": {
      "text/plain": [
       "('ASRL3::INSTR',)"
      ]
     },
     "execution_count": 6,
     "metadata": {},
     "output_type": "execute_result"
    }
   ],
   "source": [
    "pm = PiecManager()\n",
    "pm.list_resources() #finds valid resources connected to computer"
   ]
  },
  {
   "cell_type": "code",
   "execution_count": null,
   "metadata": {},
   "outputs": [],
   "source": [
    "stepper = Arduino_Stepper('ASRL3::INSTR') #opens the instrument driver\n",
    "stepper.idn() #queries the instrument for its identification"
   ]
  },
  {
   "cell_type": "markdown",
   "metadata": {},
   "source": [
    "The Stepper Driver provides an interface to control the arduino which controls the motor\n",
    "There are Four Basic Functions\n",
    "1. .idn() See usage above\n",
    "2. .step() Sends a command to step the motor with the first argument being the num_steps and the second the direction\n",
    "3. .read_position() Used to query the arduino to return the current saved position\n",
    "4. .set_zero() Used to tell the arduino to set the step counter to zero\n",
    "\n",
    "It is possible to implement your OWN step counter in python and it is HIGHLY recommended to do so as serial communication with the arduino\n",
    "is far from perfect, this provides a backup value if python crashes or someone else uses the computer and its impossible to determine the correct position. Always try to check physically the motors position, but in case of remote work, this funcitonality provides a way to double check."
   ]
  },
  {
   "cell_type": "code",
   "execution_count": null,
   "metadata": {},
   "outputs": [
    {
     "data": {
      "text/plain": [
       "100"
      ]
     },
     "execution_count": 13,
     "metadata": {},
     "output_type": "execute_result"
    }
   ],
   "source": [
    "#Example of stepping 100 steps in the \"0\" direction where \"0\" is probably Clockwise Encourage to check direction yourself\n",
    "stepper.step(100,0)"
   ]
  },
  {
   "cell_type": "code",
   "execution_count": null,
   "metadata": {},
   "outputs": [
    {
     "data": {
      "text/plain": [
       "100"
      ]
     },
     "execution_count": 14,
     "metadata": {},
     "output_type": "execute_result"
    },
    {
     "ename": "",
     "evalue": "",
     "output_type": "error",
     "traceback": [
      "\u001b[1;31mThe Kernel crashed while executing code in the current cell or a previous cell. \n",
      "\u001b[1;31mPlease review the code in the cell(s) to identify a possible cause of the failure. \n",
      "\u001b[1;31mClick <a href='https://aka.ms/vscodeJupyterKernelCrash'>here</a> for more info. \n",
      "\u001b[1;31mView Jupyter <a href='command:jupyter.viewOutput'>log</a> for further details."
     ]
    }
   ],
   "source": [
    "#Example of reading the current position from the arduino\n",
    "stepper.read_position()"
   ]
  },
  {
   "cell_type": "code",
   "execution_count": null,
   "metadata": {},
   "outputs": [],
   "source": [
    "#Example if setting the position of the arduino to zero. Equivalent to unplugging and replugging in the arduino's power.\n",
    "stepper.set_zero()"
   ]
  },
  {
   "cell_type": "code",
   "execution_count": null,
   "metadata": {},
   "outputs": [],
   "source": [
    "#Try reading the positin again to confirm its zero\n",
    "stepper.read_position()"
   ]
  },
  {
   "cell_type": "code",
   "execution_count": null,
   "metadata": {},
   "outputs": [],
   "source": [
    "#Example if moving the other direction\n",
    "stepper.step(100,1)"
   ]
  }
 ],
 "metadata": {
  "kernelspec": {
   "display_name": "Python 3",
   "language": "python",
   "name": "python3"
  },
  "language_info": {
   "codemirror_mode": {
    "name": "ipython",
    "version": 3
   },
   "file_extension": ".py",
   "mimetype": "text/x-python",
   "name": "python",
   "nbconvert_exporter": "python",
   "pygments_lexer": "ipython3",
   "version": "3.13.1"
  }
 },
 "nbformat": 4,
 "nbformat_minor": 2
}
