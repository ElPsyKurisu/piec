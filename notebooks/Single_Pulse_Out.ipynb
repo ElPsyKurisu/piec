{
 "cells": [
  {
   "cell_type": "code",
   "execution_count": 70,
   "metadata": {},
   "outputs": [],
   "source": [
    "# from piec.drivers.utilities import PiecManager\n",
    "from piec.drivers.keysight81150a import Keysight81150a\n",
    "from piec.drivers.keysightdsox3024a import Dsox3024a\n",
    "import pandas as pd\n",
    "import time\n",
    "# pm = PiecManager()"
   ]
  },
  {
   "cell_type": "code",
   "execution_count": 2,
   "metadata": {},
   "outputs": [],
   "source": [
    "# pm.parse_resources()"
   ]
  },
  {
   "cell_type": "code",
   "execution_count": 3,
   "metadata": {},
   "outputs": [],
   "source": [
    "awg = Keysight81150a(\"GPIB0::8::INSTR\")\n",
    "scope = Dsox3024a(\"GPIB0::7::INSTR\")"
   ]
  },
  {
   "cell_type": "code",
   "execution_count": 4,
   "metadata": {},
   "outputs": [
    {
     "data": {
      "text/plain": [
       "'Agilent Technologies,81150A,MY53821602,3.0.0.0-4.6\\n'"
      ]
     },
     "execution_count": 4,
     "metadata": {},
     "output_type": "execute_result"
    }
   ],
   "source": [
    "awg.idn()"
   ]
  },
  {
   "cell_type": "code",
   "execution_count": 5,
   "metadata": {},
   "outputs": [
    {
     "data": {
      "text/plain": [
       "'AGILENT TECHNOLOGIES,DSO-X 3024A,MY63080078,02.65.2021030741\\n'"
      ]
     },
     "execution_count": 5,
     "metadata": {},
     "output_type": "execute_result"
    }
   ],
   "source": [
    "scope.idn()"
   ]
  },
  {
   "cell_type": "code",
   "execution_count": 65,
   "metadata": {},
   "outputs": [],
   "source": [
    "#Setup functions\n",
    "#Set up the pulse params\n",
    "awg.configure_wf(channel='1', func=\"PULS\", voltage=\"2.0\", offset=\"1.0\", frequency=\"1.0e7\", duty_cycle=\"50\")\n",
    "#Sets the trigger source to manual\n",
    "awg.configure_trigger(trigger_source=\"MAN\")\n",
    "#turns the output on\n",
    "awg.output_enable(channel='1')"
   ]
  },
  {
   "cell_type": "code",
   "execution_count": 102,
   "metadata": {},
   "outputs": [],
   "source": [
    "#Configure the scope\n",
    "channel=1\n",
    "\n",
    "scope.initialize()\n",
    "scope.configure_timebase(time_base_type='MAIN', reference='CENTer', time_scale=f'{10e-9}', position=f'{0}') #this should be made general\n",
    "scope.configure_channel(channel=f'{channel}', voltage_scale=f'{1}', impedance='FIFT', voltage_offset=3.0)#set both to 50ohm\n",
    "scope.configure_trigger_characteristics(trigger_source='CHAN1', low_voltage_level='0.75', high_voltage_level='0.95', sweep='NORM')\n",
    "scope.configure_trigger_edge(trigger_source='CHAN1', input_coupling='DC', level=1.0)\n",
    "scope.initiate()\n",
    "time.sleep(1)"
   ]
  },
  {
   "cell_type": "code",
   "execution_count": 103,
   "metadata": {},
   "outputs": [],
   "source": [
    "awg.send_software_trigger()"
   ]
  },
  {
   "cell_type": "code",
   "execution_count": 104,
   "metadata": {},
   "outputs": [
    {
     "data": {
      "text/html": [
       "<div>\n",
       "<style scoped>\n",
       "    .dataframe tbody tr th:only-of-type {\n",
       "        vertical-align: middle;\n",
       "    }\n",
       "\n",
       "    .dataframe tbody tr th {\n",
       "        vertical-align: top;\n",
       "    }\n",
       "\n",
       "    .dataframe thead th {\n",
       "        text-align: right;\n",
       "    }\n",
       "</style>\n",
       "<table border=\"1\" class=\"dataframe\">\n",
       "  <thead>\n",
       "    <tr style=\"text-align: right;\">\n",
       "      <th></th>\n",
       "      <th>time (s)</th>\n",
       "      <th>voltage (V)</th>\n",
       "    </tr>\n",
       "  </thead>\n",
       "  <tbody>\n",
       "    <tr>\n",
       "      <th>0</th>\n",
       "      <td>-5.000000e-08</td>\n",
       "      <td>-0.055276</td>\n",
       "    </tr>\n",
       "    <tr>\n",
       "      <th>1</th>\n",
       "      <td>-4.984375e-08</td>\n",
       "      <td>-0.055276</td>\n",
       "    </tr>\n",
       "    <tr>\n",
       "      <th>2</th>\n",
       "      <td>-4.968750e-08</td>\n",
       "      <td>-0.055276</td>\n",
       "    </tr>\n",
       "    <tr>\n",
       "      <th>3</th>\n",
       "      <td>-4.953125e-08</td>\n",
       "      <td>-0.055276</td>\n",
       "    </tr>\n",
       "    <tr>\n",
       "      <th>4</th>\n",
       "      <td>-4.937500e-08</td>\n",
       "      <td>-0.055276</td>\n",
       "    </tr>\n",
       "  </tbody>\n",
       "</table>\n",
       "</div>"
      ],
      "text/plain": [
       "       time (s)  voltage (V)\n",
       "0 -5.000000e-08    -0.055276\n",
       "1 -4.984375e-08    -0.055276\n",
       "2 -4.968750e-08    -0.055276\n",
       "3 -4.953125e-08    -0.055276\n",
       "4 -4.937500e-08    -0.055276"
      ]
     },
     "execution_count": 104,
     "metadata": {},
     "output_type": "execute_result"
    }
   ],
   "source": [
    "#Capture Waveform\n",
    "scope.setup_wf()\n",
    "_, trace_t, trace_v  = scope.query_wf()#change\n",
    "data = pd.DataFrame({\"time (s)\":trace_t, \"voltage (V)\": trace_v}) # Retrieve the data from the oscilloscope\n",
    "data.head()"
   ]
  },
  {
   "cell_type": "code",
   "execution_count": 105,
   "metadata": {},
   "outputs": [],
   "source": [
    "data.to_csv(r\"C:\\Users\\adqua\\Documents\\Lab\\data\\ultrafast_raw_out\\10ns_delay.csv\", index=False)"
   ]
  }
 ],
 "metadata": {
  "kernelspec": {
   "display_name": "Python 3",
   "language": "python",
   "name": "python3"
  },
  "language_info": {
   "codemirror_mode": {
    "name": "ipython",
    "version": 3
   },
   "file_extension": ".py",
   "mimetype": "text/x-python",
   "name": "python",
   "nbconvert_exporter": "python",
   "pygments_lexer": "ipython3",
   "version": "3.13.1"
  }
 },
 "nbformat": 4,
 "nbformat_minor": 2
}
